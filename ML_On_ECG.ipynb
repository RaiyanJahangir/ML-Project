{
  "nbformat": 4,
  "nbformat_minor": 0,
  "metadata": {
    "colab": {
      "provenance": []
    },
    "kernelspec": {
      "name": "python3",
      "display_name": "Python 3"
    },
    "language_info": {
      "name": "python"
    },
    "accelerator": "GPU",
    "gpuClass": "standard"
  },
  "cells": [
    {
      "cell_type": "code",
      "execution_count": null,
      "metadata": {
        "id": "v0V4vbr-6D2I",
        "colab": {
          "base_uri": "https://localhost:8080/"
        },
        "outputId": "4aa6176f-68b2-4a22-968d-b2f630a0abb1"
      },
      "outputs": [
        {
          "output_type": "stream",
          "name": "stdout",
          "text": [
            "Mounted at /content/drive\n"
          ]
        }
      ],
      "source": [
        "from google.colab import drive\n",
        "drive.mount('/content/drive')"
      ]
    },
    {
      "cell_type": "code",
      "source": [
        "import pandas as pd\n",
        "import numpy as np\n",
        "import matplotlib.pyplot as plt\n",
        "import seaborn as sb\n",
        "%matplotlib inline "
      ],
      "metadata": {
        "id": "ZmJixTwN6_EV"
      },
      "execution_count": null,
      "outputs": []
    },
    {
      "cell_type": "code",
      "source": [
        "train_data=pd.read_csv('/content/drive/MyDrive/CSE 4-2/CSE-442/Project Materials/mitbih_train.csv',header=None) # give your own drive location\n",
        "test_data=pd.read_csv('/content/drive/MyDrive/CSE 4-2/CSE-442/Project Materials/mitbih_test.csv',header=None) # give your own drive location"
      ],
      "metadata": {
        "id": "YaGFvTLE7D8L"
      },
      "execution_count": null,
      "outputs": []
    },
    {
      "cell_type": "code",
      "source": [
        "train_target = train_data[187].value_counts()"
      ],
      "metadata": {
        "id": "7vLy3C9d7N7d"
      },
      "execution_count": null,
      "outputs": []
    },
    {
      "cell_type": "code",
      "source": [
        "train_target"
      ],
      "metadata": {
        "colab": {
          "base_uri": "https://localhost:8080/"
        },
        "id": "Oh7Ns9pA7Xmu",
        "outputId": "4173068f-9fc2-472b-99ef-103354f8ab81"
      },
      "execution_count": null,
      "outputs": [
        {
          "output_type": "execute_result",
          "data": {
            "text/plain": [
              "0.0    72471\n",
              "4.0     6431\n",
              "2.0     5788\n",
              "1.0     2223\n",
              "3.0      641\n",
              "Name: 187, dtype: int64"
            ]
          },
          "metadata": {},
          "execution_count": 7
        }
      ]
    },
    {
      "cell_type": "code",
      "source": [
        "plt.bar(train_target.index,train_target.values, color = sb.color_palette()[4]);"
      ],
      "metadata": {
        "colab": {
          "base_uri": "https://localhost:8080/",
          "height": 265
        },
        "id": "9tM2z0KV7Z7V",
        "outputId": "7989c826-40a5-4256-e873-e6e849d3590c"
      },
      "execution_count": null,
      "outputs": [
        {
          "output_type": "display_data",
          "data": {
            "text/plain": [
              "<Figure size 432x288 with 1 Axes>"
            ],
            "image/png": "[encoded data removed]"
          },
          "metadata": {
            "needs_background": "light"
          }
        }
      ]
    },
    {
      "cell_type": "code",
      "source": [
        "np.random.seed(2018)\n",
        "sample = np.random.choice(train_data.shape[0], 200, replace = False)\n",
        "subset = train_data.loc[sample]"
      ],
      "metadata": {
        "id": "oVVrpEqD7c4l"
      },
      "execution_count": null,
      "outputs": []
    },
    {
      "cell_type": "code",
      "source": [
        "subset"
      ],
      "metadata": {
        "colab": {
          "base_uri": "https://localhost:8080/",
          "height": 488
        },
        "id": "8JNVbMFh7fVU",
        "outputId": "eb2f2691-e5d3-4be9-e7fd-f8632d28cf33"
      },
      "execution_count": null,
      "outputs": [
        {
          "output_type": "execute_result",
          "data": {
            "text/plain": [
              "            0         1         2         3         4         5         6    \\\n",
              "64457  0.962963  0.811966  0.279202  0.025641  0.074074  0.085470  0.022792   \n",
              "36271  0.979487  0.561538  0.353846  0.233333  0.135897  0.074359  0.033333   \n",
              "27479  0.960000  0.792000  0.468000  0.060000  0.000000  0.152000  0.196000   \n",
              "26599  0.988920  0.858726  0.412742  0.000000  0.199446  0.304709  0.373961   \n",
              "13752  1.000000  0.624060  0.067669  0.112782  0.187970  0.142857  0.131579   \n",
              "...         ...       ...       ...       ...       ...       ...       ...   \n",
              "77146  0.412451  0.396887  0.289235  0.130999  0.154345  0.178988  0.097276   \n",
              "26244  0.969091  0.863636  0.627273  0.356364  0.121818  0.034545  0.040000   \n",
              "12805  1.000000  0.976190  0.608844  0.000000  0.017007  0.085034  0.112245   \n",
              "37083  1.000000  0.779070  0.209302  0.050388  0.065891  0.093023  0.077519   \n",
              "74004  0.894309  0.349593  0.276423  0.195122  0.138211  0.113821  0.121951   \n",
              "\n",
              "            7         8         9    ...       178       179       180  \\\n",
              "64457  0.005698  0.025641  0.022792  ...  0.000000  0.000000  0.000000   \n",
              "36271  0.023077  0.017949  0.017949  ...  0.000000  0.000000  0.000000   \n",
              "27479  0.236000  0.256000  0.268000  ...  0.000000  0.000000  0.000000   \n",
              "26599  0.409972  0.423823  0.385042  ...  0.000000  0.000000  0.000000   \n",
              "13752  0.090226  0.056391  0.071429  ...  0.000000  0.000000  0.000000   \n",
              "...         ...       ...       ...  ...       ...       ...       ...   \n",
              "77146  0.035019  0.020752  0.000000  ...  0.884565  0.684825  0.503243   \n",
              "26244  0.061818  0.080000  0.089091  ...  0.000000  0.000000  0.000000   \n",
              "12805  0.098639  0.125850  0.115646  ...  0.000000  0.000000  0.000000   \n",
              "37083  0.124031  0.174419  0.131783  ...  0.217054  0.000000  0.000000   \n",
              "74004  0.113821  0.126016  0.105691  ...  0.000000  0.000000  0.000000   \n",
              "\n",
              "            181       182       183       184       185       186  187  \n",
              "64457  0.000000  0.000000  0.000000  0.000000  0.000000  0.000000  0.0  \n",
              "36271  0.000000  0.000000  0.000000  0.000000  0.000000  0.000000  0.0  \n",
              "27479  0.000000  0.000000  0.000000  0.000000  0.000000  0.000000  0.0  \n",
              "26599  0.000000  0.000000  0.000000  0.000000  0.000000  0.000000  0.0  \n",
              "13752  0.000000  0.000000  0.000000  0.000000  0.000000  0.000000  0.0  \n",
              "...         ...       ...       ...       ...       ...       ...  ...  \n",
              "77146  0.343709  0.300908  0.313878  0.338521  0.352789  0.351492  2.0  \n",
              "26244  0.000000  0.000000  0.000000  0.000000  0.000000  0.000000  0.0  \n",
              "12805  0.000000  0.000000  0.000000  0.000000  0.000000  0.000000  0.0  \n",
              "37083  0.000000  0.000000  0.000000  0.000000  0.000000  0.000000  0.0  \n",
              "74004  0.000000  0.000000  0.000000  0.000000  0.000000  0.000000  1.0  \n",
              "\n",
              "[200 rows x 188 columns]"
            ],
            "text/html": [
              "\n",
              "  <div id=\"df-9f2569bb-ec4f-4cef-bb24-d16c054e4691\">\n",
              "    <div class=\"colab-df-container\">\n",
              "      <div>\n",
              "<style scoped>\n",
              "    .dataframe tbody tr th:only-of-type {\n",
              "        vertical-align: middle;\n",
              "    }\n",
              "\n",
              "    .dataframe tbody tr th {\n",
              "        vertical-align: top;\n",
              "    }\n",
              "\n",
              "    .dataframe thead th {\n",
              "        text-align: right;\n",
              "    }\n",
              "</style>\n",
              "<table border=\"1\" class=\"dataframe\">\n",
              "  <thead>\n",
              "    <tr style=\"text-align: right;\">\n",
              "      <th></th>\n",
              "      <th>0</th>\n",
              "      <th>1</th>\n",
              "      <th>2</th>\n",
              "      <th>3</th>\n",
              "      <th>4</th>\n",
              "      <th>5</th>\n",
              "      <th>6</th>\n",
              "      <th>7</th>\n",
              "      <th>8</th>\n",
              "      <th>9</th>\n",
              "      <th>...</th>\n",
              "      <th>178</th>\n",
              "      <th>179</th>\n",
              "      <th>180</th>\n",
              "      <th>181</th>\n",
              "      <th>182</th>\n",
              "      <th>183</th>\n",
              "      <th>184</th>\n",
              "      <th>185</th>\n",
              "      <th>186</th>\n",
              "      <th>187</th>\n",
              "    </tr>\n",
              "  </thead>\n",
              "  <tbody>\n",
              "    <tr>\n",
              "      <th>64457</th>\n",
              "      <td>0.962963</td>\n",
              "      <td>0.811966</td>\n",
              "      <td>0.279202</td>\n",
              "      <td>0.025641</td>\n",
              "      <td>0.074074</td>\n",
              "      <td>0.085470</td>\n",
              "      <td>0.022792</td>\n",
              "      <td>0.005698</td>\n",
              "      <td>0.025641</td>\n",
              "      <td>0.022792</td>\n",
              "      <td>...</td>\n",
              "      <td>0.000000</td>\n",
              "      <td>0.000000</td>\n",
              "      <td>0.000000</td>\n",
              "      <td>0.000000</td>\n",
              "      <td>0.000000</td>\n",
              "      <td>0.000000</td>\n",
              "      <td>0.000000</td>\n",
              "      <td>0.000000</td>\n",
              "      <td>0.000000</td>\n",
              "      <td>0.0</td>\n",
              "    </tr>\n",
              "    <tr>\n",
              "      <th>36271</th>\n",
              "      <td>0.979487</td>\n",
              "      <td>0.561538</td>\n",
              "      <td>0.353846</td>\n",
              "      <td>0.233333</td>\n",
              "      <td>0.135897</td>\n",
              "      <td>0.074359</td>\n",
              "      <td>0.033333</td>\n",
              "      <td>0.023077</td>\n",
              "      <td>0.017949</td>\n",
              "      <td>0.017949</td>\n",
              "      <td>...</td>\n",
              "      <td>0.000000</td>\n",
              "      <td>0.000000</td>\n",
              "      <td>0.000000</td>\n",
              "      <td>0.000000</td>\n",
              "      <td>0.000000</td>\n",
              "      <td>0.000000</td>\n",
              "      <td>0.000000</td>\n",
              "      <td>0.000000</td>\n",
              "      <td>0.000000</td>\n",
              "      <td>0.0</td>\n",
              "    </tr>\n",
              "    <tr>\n",
              "      <th>27479</th>\n",
              "      <td>0.960000</td>\n",
              "      <td>0.792000</td>\n",
              "      <td>0.468000</td>\n",
              "      <td>0.060000</td>\n",
              "      <td>0.000000</td>\n",
              "      <td>0.152000</td>\n",
              "      <td>0.196000</td>\n",
              "      <td>0.236000</td>\n",
              "      <td>0.256000</td>\n",
              "      <td>0.268000</td>\n",
              "      <td>...</td>\n",
              "      <td>0.000000</td>\n",
              "      <td>0.000000</td>\n",
              "      <td>0.000000</td>\n",
              "      <td>0.000000</td>\n",
              "      <td>0.000000</td>\n",
              "      <td>0.000000</td>\n",
              "      <td>0.000000</td>\n",
              "      <td>0.000000</td>\n",
              "      <td>0.000000</td>\n",
              "      <td>0.0</td>\n",
              "    </tr>\n",
              "    <tr>\n",
              "      <th>26599</th>\n",
              "      <td>0.988920</td>\n",
              "      <td>0.858726</td>\n",
              "      <td>0.412742</td>\n",
              "      <td>0.000000</td>\n",
              "      <td>0.199446</td>\n",
              "      <td>0.304709</td>\n",
              "      <td>0.373961</td>\n",
              "      <td>0.409972</td>\n",
              "      <td>0.423823</td>\n",
              "      <td>0.385042</td>\n",
              "      <td>...</td>\n",
              "      <td>0.000000</td>\n",
              "      <td>0.000000</td>\n",
              "      <td>0.000000</td>\n",
              "      <td>0.000000</td>\n",
              "      <td>0.000000</td>\n",
              "      <td>0.000000</td>\n",
              "      <td>0.000000</td>\n",
              "      <td>0.000000</td>\n",
              "      <td>0.000000</td>\n",
              "      <td>0.0</td>\n",
              "    </tr>\n",
              "    <tr>\n",
              "      <th>13752</th>\n",
              "      <td>1.000000</td>\n",
              "      <td>0.624060</td>\n",
              "      <td>0.067669</td>\n",
              "      <td>0.112782</td>\n",
              "      <td>0.187970</td>\n",
              "      <td>0.142857</td>\n",
              "      <td>0.131579</td>\n",
              "      <td>0.090226</td>\n",
              "      <td>0.056391</td>\n",
              "      <td>0.071429</td>\n",
              "      <td>...</td>\n",
              "      <td>0.000000</td>\n",
              "      <td>0.000000</td>\n",
              "      <td>0.000000</td>\n",
              "      <td>0.000000</td>\n",
              "      <td>0.000000</td>\n",
              "      <td>0.000000</td>\n",
              "      <td>0.000000</td>\n",
              "      <td>0.000000</td>\n",
              "      <td>0.000000</td>\n",
              "      <td>0.0</td>\n",
              "    </tr>\n",
              "    <tr>\n",
              "      <th>...</th>\n",
              "      <td>...</td>\n",
              "      <td>...</td>\n",
              "      <td>...</td>\n",
              "      <td>...</td>\n",
              "      <td>...</td>\n",
              "      <td>...</td>\n",
              "      <td>...</td>\n",
              "      <td>...</td>\n",
              "      <td>...</td>\n",
              "      <td>...</td>\n",
              "      <td>...</td>\n",
              "      <td>...</td>\n",
              "      <td>...</td>\n",
              "      <td>...</td>\n",
              "      <td>...</td>\n",
              "      <td>...</td>\n",
              "      <td>...</td>\n",
              "      <td>...</td>\n",
              "      <td>...</td>\n",
              "      <td>...</td>\n",
              "      <td>...</td>\n",
              "    </tr>\n",
              "    <tr>\n",
              "      <th>77146</th>\n",
              "      <td>0.412451</td>\n",
              "      <td>0.396887</td>\n",
              "      <td>0.289235</td>\n",
              "      <td>0.130999</td>\n",
              "      <td>0.154345</td>\n",
              "      <td>0.178988</td>\n",
              "      <td>0.097276</td>\n",
              "      <td>0.035019</td>\n",
              "      <td>0.020752</td>\n",
              "      <td>0.000000</td>\n",
              "      <td>...</td>\n",
              "      <td>0.884565</td>\n",
              "      <td>0.684825</td>\n",
              "      <td>0.503243</td>\n",
              "      <td>0.343709</td>\n",
              "      <td>0.300908</td>\n",
              "      <td>0.313878</td>\n",
              "      <td>0.338521</td>\n",
              "      <td>0.352789</td>\n",
              "      <td>0.351492</td>\n",
              "      <td>2.0</td>\n",
              "    </tr>\n",
              "    <tr>\n",
              "      <th>26244</th>\n",
              "      <td>0.969091</td>\n",
              "      <td>0.863636</td>\n",
              "      <td>0.627273</td>\n",
              "      <td>0.356364</td>\n",
              "      <td>0.121818</td>\n",
              "      <td>0.034545</td>\n",
              "      <td>0.040000</td>\n",
              "      <td>0.061818</td>\n",
              "      <td>0.080000</td>\n",
              "      <td>0.089091</td>\n",
              "      <td>...</td>\n",
              "      <td>0.000000</td>\n",
              "      <td>0.000000</td>\n",
              "      <td>0.000000</td>\n",
              "      <td>0.000000</td>\n",
              "      <td>0.000000</td>\n",
              "      <td>0.000000</td>\n",
              "      <td>0.000000</td>\n",
              "      <td>0.000000</td>\n",
              "      <td>0.000000</td>\n",
              "      <td>0.0</td>\n",
              "    </tr>\n",
              "    <tr>\n",
              "      <th>12805</th>\n",
              "      <td>1.000000</td>\n",
              "      <td>0.976190</td>\n",
              "      <td>0.608844</td>\n",
              "      <td>0.000000</td>\n",
              "      <td>0.017007</td>\n",
              "      <td>0.085034</td>\n",
              "      <td>0.112245</td>\n",
              "      <td>0.098639</td>\n",
              "      <td>0.125850</td>\n",
              "      <td>0.115646</td>\n",
              "      <td>...</td>\n",
              "      <td>0.000000</td>\n",
              "      <td>0.000000</td>\n",
              "      <td>0.000000</td>\n",
              "      <td>0.000000</td>\n",
              "      <td>0.000000</td>\n",
              "      <td>0.000000</td>\n",
              "      <td>0.000000</td>\n",
              "      <td>0.000000</td>\n",
              "      <td>0.000000</td>\n",
              "      <td>0.0</td>\n",
              "    </tr>\n",
              "    <tr>\n",
              "      <th>37083</th>\n",
              "      <td>1.000000</td>\n",
              "      <td>0.779070</td>\n",
              "      <td>0.209302</td>\n",
              "      <td>0.050388</td>\n",
              "      <td>0.065891</td>\n",
              "      <td>0.093023</td>\n",
              "      <td>0.077519</td>\n",
              "      <td>0.124031</td>\n",
              "      <td>0.174419</td>\n",
              "      <td>0.131783</td>\n",
              "      <td>...</td>\n",
              "      <td>0.217054</td>\n",
              "      <td>0.000000</td>\n",
              "      <td>0.000000</td>\n",
              "      <td>0.000000</td>\n",
              "      <td>0.000000</td>\n",
              "      <td>0.000000</td>\n",
              "      <td>0.000000</td>\n",
              "      <td>0.000000</td>\n",
              "      <td>0.000000</td>\n",
              "      <td>0.0</td>\n",
              "    </tr>\n",
              "    <tr>\n",
              "      <th>74004</th>\n",
              "      <td>0.894309</td>\n",
              "      <td>0.349593</td>\n",
              "      <td>0.276423</td>\n",
              "      <td>0.195122</td>\n",
              "      <td>0.138211</td>\n",
              "      <td>0.113821</td>\n",
              "      <td>0.121951</td>\n",
              "      <td>0.113821</td>\n",
              "      <td>0.126016</td>\n",
              "      <td>0.105691</td>\n",
              "      <td>...</td>\n",
              "      <td>0.000000</td>\n",
              "      <td>0.000000</td>\n",
              "      <td>0.000000</td>\n",
              "      <td>0.000000</td>\n",
              "      <td>0.000000</td>\n",
              "      <td>0.000000</td>\n",
              "      <td>0.000000</td>\n",
              "      <td>0.000000</td>\n",
              "      <td>0.000000</td>\n",
              "      <td>1.0</td>\n",
              "    </tr>\n",
              "  </tbody>\n",
              "</table>\n",
              "<p>200 rows × 188 columns</p>\n",
              "</div>\n",
              "      <button class=\"colab-df-convert\" onclick=\"convertToInteractive('df-9f2569bb-ec4f-4cef-bb24-d16c054e4691')\"\n",
              "              title=\"Convert this dataframe to an interactive table.\"\n",
              "              style=\"display:none;\">\n",
              "        \n",
              "  <svg xmlns=\"http://www.w3.org/2000/svg\" height=\"24px\"viewBox=\"0 0 24 24\"\n",
              "       width=\"24px\">\n",
              "    <path d=\"M0 0h24v24H0V0z\" fill=\"none\"/>\n",
              "    <path d=\"M18.56 5.44l.94 2.06.94-2.06 2.06-.94-2.06-.94-.94-2.06-.94 2.06-2.06.94zm-11 1L8.5 8.5l.94-2.06 2.06-.94-2.06-.94L8.5 2.5l-.94 2.06-2.06.94zm10 10l.94 2.06.94-2.06 2.06-.94-2.06-.94-.94-2.06-.94 2.06-2.06.94z\"/><path d=\"M17.41 7.96l-1.37-1.37c-.4-.4-.92-.59-1.43-.59-.52 0-1.04.2-1.43.59L10.3 9.45l-7.72 7.72c-.78.78-.78 2.05 0 2.83L4 21.41c.39.39.9.59 1.41.59.51 0 1.02-.2 1.41-.59l7.78-7.78 2.81-2.81c.8-.78.8-2.07 0-2.86zM5.41 20L4 18.59l7.72-7.72 1.47 1.35L5.41 20z\"/>\n",
              "  </svg>\n",
              "      </button>\n",
              "      \n",
              "  <style>\n",
              "    .colab-df-container {\n",
              "      display:flex;\n",
              "      flex-wrap:wrap;\n",
              "      gap: 12px;\n",
              "    }\n",
              "\n",
              "    .colab-df-convert {\n",
              "      background-color: #E8F0FE;\n",
              "      border: none;\n",
              "      border-radius: 50%;\n",
              "      cursor: pointer;\n",
              "      display: none;\n",
              "      fill: #1967D2;\n",
              "      height: 32px;\n",
              "      padding: 0 0 0 0;\n",
              "      width: 32px;\n",
              "    }\n",
              "\n",
              "    .colab-df-convert:hover {\n",
              "      background-color: #E2EBFA;\n",
              "      box-shadow: 0px 1px 2px rgba(60, 64, 67, 0.3), 0px 1px 3px 1px rgba(60, 64, 67, 0.15);\n",
              "      fill: #174EA6;\n",
              "    }\n",
              "\n",
              "    [theme=dark] .colab-df-convert {\n",
              "      background-color: #3B4455;\n",
              "      fill: #D2E3FC;\n",
              "    }\n",
              "\n",
              "    [theme=dark] .colab-df-convert:hover {\n",
              "      background-color: #434B5C;\n",
              "      box-shadow: 0px 1px 3px 1px rgba(0, 0, 0, 0.15);\n",
              "      filter: drop-shadow(0px 1px 2px rgba(0, 0, 0, 0.3));\n",
              "      fill: #FFFFFF;\n",
              "    }\n",
              "  </style>\n",
              "\n",
              "      <script>\n",
              "        const buttonEl =\n",
              "          document.querySelector('#df-9f2569bb-ec4f-4cef-bb24-d16c054e4691 button.colab-df-convert');\n",
              "        buttonEl.style.display =\n",
              "          google.colab.kernel.accessAllowed ? 'block' : 'none';\n",
              "\n",
              "        async function convertToInteractive(key) {\n",
              "          const element = document.querySelector('#df-9f2569bb-ec4f-4cef-bb24-d16c054e4691');\n",
              "          const dataTable =\n",
              "            await google.colab.kernel.invokeFunction('convertToInteractive',\n",
              "                                                     [key], {});\n",
              "          if (!dataTable) return;\n",
              "\n",
              "          const docLinkHtml = 'Like what you see? Visit the ' +\n",
              "            '<a target=\"_blank\" href=https://colab.research.google.com/notebooks/data_table.ipynb>data table notebook</a>'\n",
              "            + ' to learn more about interactive tables.';\n",
              "          element.innerHTML = '';\n",
              "          dataTable['output_type'] = 'display_data';\n",
              "          await google.colab.output.renderOutput(dataTable, element);\n",
              "          const docLink = document.createElement('div');\n",
              "          docLink.innerHTML = docLinkHtml;\n",
              "          element.appendChild(docLink);\n",
              "        }\n",
              "      </script>\n",
              "    </div>\n",
              "  </div>\n",
              "  "
            ]
          },
          "metadata": {},
          "execution_count": 10
        }
      ]
    },
    {
      "cell_type": "code",
      "source": [
        "percentages = [count / subset.shape[0] * 100 for count in subset[187].value_counts()]\n",
        "percentages[0]"
      ],
      "metadata": {
        "colab": {
          "base_uri": "https://localhost:8080/"
        },
        "id": "rRtLgtSJ7gyr",
        "outputId": "c5efa2c0-8214-4814-ce92-17bd23afadf6"
      },
      "execution_count": null,
      "outputs": [
        {
          "output_type": "execute_result",
          "data": {
            "text/plain": [
              "79.5"
            ]
          },
          "metadata": {},
          "execution_count": 11
        }
      ]
    },
    {
      "cell_type": "code",
      "source": [
        "for i in np.arange(len(percentages)):\n",
        "    print(f'the precent of {int(train_target.index[i])} is : {np.round(percentages[i], 2) } %')"
      ],
      "metadata": {
        "colab": {
          "base_uri": "https://localhost:8080/"
        },
        "id": "UuWsH_CP7jSl",
        "outputId": "6babce7b-8e3f-4814-c651-37c5ae5f1199"
      },
      "execution_count": null,
      "outputs": [
        {
          "output_type": "stream",
          "name": "stdout",
          "text": [
            "the precent of 0 is : 79.5 %\n",
            "the precent of 4 is : 10.5 %\n",
            "the precent of 2 is : 5.5 %\n",
            "the precent of 1 is : 4.0 %\n",
            "the precent of 3 is : 0.5 %\n"
          ]
        }
      ]
    },
    {
      "cell_type": "code",
      "source": [
        "base_color = sb.color_palette()[0]\n",
        "type_orderion = subset[187].value_counts().index\n",
        "sb.countplot(data = subset, y = 187, color = base_color, order = type_orderion );\n",
        "plt.xticks(rotation = 90);"
      ],
      "metadata": {
        "colab": {
          "base_uri": "https://localhost:8080/",
          "height": 288
        },
        "id": "6AO5nQVq7l0L",
        "outputId": "c162c9c3-ee14-4aee-a1dc-310943fbf36e"
      },
      "execution_count": null,
      "outputs": [
        {
          "output_type": "display_data",
          "data": {
            "text/plain": [
              "<Figure size 432x288 with 1 Axes>"
            ],
            "image/png": "[encoded data removed]"
          },
          "metadata": {
            "needs_background": "light"
          }
        }
      ]
    },
    {
      "cell_type": "code",
      "source": [
        "from sklearn.utils import resample\n",
        "target1=train_data[train_data[187]==1]\n",
        "target2=train_data[train_data[187]==2]\n",
        "target3=train_data[train_data[187]==3]\n",
        "target4=train_data[train_data[187]==4]\n",
        "target0=(train_data[train_data[187]==0]).sample(n=20000,random_state=42)\n",
        "\n",
        "target1_sample=resample(target1,replace=True,n_samples=20000,random_state=0)\n",
        "target2_sample=resample(target2,replace=True,n_samples=20000,random_state=0)\n",
        "target3_sample=resample(target3,replace=True,n_samples=20000,random_state=0)\n",
        "target4_sample=resample(target4,replace=True,n_samples=20000,random_state=0)\n",
        "\n",
        "train_data=pd.concat([target0,target1_sample,target2_sample,target3_sample,target4_sample])"
      ],
      "metadata": {
        "id": "buR9IQFA7n-b"
      },
      "execution_count": null,
      "outputs": []
    },
    {
      "cell_type": "code",
      "source": [
        "train_target = train_data[187].value_counts()"
      ],
      "metadata": {
        "id": "_wsi8hOM7qlN"
      },
      "execution_count": null,
      "outputs": []
    },
    {
      "cell_type": "code",
      "source": [
        "train_target"
      ],
      "metadata": {
        "colab": {
          "base_uri": "https://localhost:8080/"
        },
        "id": "WdQY_2Zn7tKg",
        "outputId": "01ab0b9a-e5e7-4f93-e74e-156ff3ff4b18"
      },
      "execution_count": null,
      "outputs": [
        {
          "output_type": "execute_result",
          "data": {
            "text/plain": [
              "0.0    20000\n",
              "1.0    20000\n",
              "2.0    20000\n",
              "3.0    20000\n",
              "4.0    20000\n",
              "Name: 187, dtype: int64"
            ]
          },
          "metadata": {},
          "execution_count": 16
        }
      ]
    },
    {
      "cell_type": "code",
      "source": [
        "plt.bar(train_target.index,train_target.values, color = 'green');"
      ],
      "metadata": {
        "colab": {
          "base_uri": "https://localhost:8080/",
          "height": 265
        },
        "id": "S14fLy2C7urp",
        "outputId": "d80d07a4-ceda-4dc6-e470-6bec01b33d26"
      },
      "execution_count": null,
      "outputs": [
        {
          "output_type": "display_data",
          "data": {
            "text/plain": [
              "<Figure size 432x288 with 1 Axes>"
            ],
            "image/png": "[encoded data removed]"
          },
          "metadata": {
            "needs_background": "light"
          }
        }
      ]
    },
    {
      "cell_type": "code",
      "source": [
        "sorted_counts = train_data[187].value_counts();\n",
        "plt.figure(figsize = [12,5.01])\n",
        "plt.pie(sorted_counts, labels = sorted_counts.index, startangle = 90,\n",
        "        counterclock = False);\n",
        "plt.axis('square');"
      ],
      "metadata": {
        "colab": {
          "base_uri": "https://localhost:8080/",
          "height": 308
        },
        "id": "PLRE9Xfk7wAg",
        "outputId": "cb9c463e-7c5b-4ccd-9e15-0719df206a33"
      },
      "execution_count": null,
      "outputs": [
        {
          "output_type": "display_data",
          "data": {
            "text/plain": [
              "<Figure size 864x360.72 with 1 Axes>"
            ],
            "image/png": "[encoded data removed]"
          },
          "metadata": {}
        }
      ]
    },
    {
      "cell_type": "code",
      "source": [
        "test_target = test_data[187].value_counts()"
      ],
      "metadata": {
        "id": "A-UCXS7-7yg5"
      },
      "execution_count": null,
      "outputs": []
    },
    {
      "cell_type": "code",
      "source": [
        "test_target"
      ],
      "metadata": {
        "colab": {
          "base_uri": "https://localhost:8080/"
        },
        "id": "H8uY72PF70-h",
        "outputId": "4be43086-b010-40c8-eda0-5c4abe57f041"
      },
      "execution_count": null,
      "outputs": [
        {
          "output_type": "execute_result",
          "data": {
            "text/plain": [
              "0.0    18118\n",
              "4.0     1608\n",
              "2.0     1448\n",
              "1.0      556\n",
              "3.0      162\n",
              "Name: 187, dtype: int64"
            ]
          },
          "metadata": {},
          "execution_count": 20
        }
      ]
    },
    {
      "cell_type": "code",
      "source": [
        "plt.bar(test_target.index,test_target.values, color = sb.color_palette()[0]);"
      ],
      "metadata": {
        "colab": {
          "base_uri": "https://localhost:8080/",
          "height": 265
        },
        "id": "z3V-JMpL72dw",
        "outputId": "189b6d6f-7b15-48f9-f12c-eac0c6ff895b"
      },
      "execution_count": null,
      "outputs": [
        {
          "output_type": "display_data",
          "data": {
            "text/plain": [
              "<Figure size 432x288 with 1 Axes>"
            ],
            "image/png": "[encoded data removed]"
          },
          "metadata": {
            "needs_background": "light"
          }
        }
      ]
    },
    {
      "cell_type": "code",
      "source": [
        "np.random.seed(2020)\n",
        "sample2 = np.random.choice(test_data.shape[0], 200, replace = False)\n",
        "subset2 = test_data.loc[sample2]"
      ],
      "metadata": {
        "id": "GEx8rd4674iB"
      },
      "execution_count": null,
      "outputs": []
    },
    {
      "cell_type": "code",
      "source": [
        "percentages = [count / subset2.shape[0] * 100 for count in subset2[187].value_counts()]\n",
        "percentages[0]"
      ],
      "metadata": {
        "colab": {
          "base_uri": "https://localhost:8080/"
        },
        "id": "7Urem6Sb76Nr",
        "outputId": "73d2569f-f16a-4bff-bc1d-86b98c08cfc5"
      },
      "execution_count": null,
      "outputs": [
        {
          "output_type": "execute_result",
          "data": {
            "text/plain": [
              "80.5"
            ]
          },
          "metadata": {},
          "execution_count": 23
        }
      ]
    },
    {
      "cell_type": "code",
      "source": [
        "for i in np.arange(len(percentages)):\n",
        "    print(f'the precent of {int(test_data.index[i])} is : {np.round(percentages[i], 2) } %')"
      ],
      "metadata": {
        "colab": {
          "base_uri": "https://localhost:8080/"
        },
        "id": "UHXBTlqg77xl",
        "outputId": "2a297471-ac98-40fa-894e-31ed6c8b6e63"
      },
      "execution_count": null,
      "outputs": [
        {
          "output_type": "stream",
          "name": "stdout",
          "text": [
            "the precent of 0 is : 80.5 %\n",
            "the precent of 1 is : 9.5 %\n",
            "the precent of 2 is : 8.0 %\n",
            "the precent of 3 is : 2.0 %\n"
          ]
        }
      ]
    },
    {
      "cell_type": "code",
      "source": [
        "from sklearn.utils import resample\n",
        "target1=test_data[test_data[187]==1]\n",
        "target2=test_data[test_data[187]==2]\n",
        "target3=test_data[test_data[187]==3]\n",
        "target4=test_data[test_data[187]==4]\n",
        "target0=(test_data[test_data[187]==0]).sample(n=2000,random_state=0)\n",
        "\n",
        "target1_sample=resample(target1,replace=True,n_samples=2000,random_state=0)\n",
        "target2_sample=resample(target2,replace=True,n_samples=2000,random_state=0)\n",
        "target3_sample=resample(target3,replace=True,n_samples=2000,random_state=0)\n",
        "target4_sample=resample(target4,replace=True,n_samples=2000,random_state=0)\n",
        "\n",
        "test_data=pd.concat([target0,target1_sample,target2_sample,target3_sample,target4_sample])"
      ],
      "metadata": {
        "id": "RQG5TJM_7-EL"
      },
      "execution_count": null,
      "outputs": []
    },
    {
      "cell_type": "code",
      "source": [
        "test_target = test_data[187].value_counts()"
      ],
      "metadata": {
        "id": "Fb3W_Kww7_9U"
      },
      "execution_count": null,
      "outputs": []
    },
    {
      "cell_type": "code",
      "source": [
        "test_target"
      ],
      "metadata": {
        "colab": {
          "base_uri": "https://localhost:8080/"
        },
        "id": "LwJoPwQM8BR0",
        "outputId": "f8ef5169-5bb5-4409-8e1e-a5d8ceee35fd"
      },
      "execution_count": null,
      "outputs": [
        {
          "output_type": "execute_result",
          "data": {
            "text/plain": [
              "0.0    2000\n",
              "1.0    2000\n",
              "2.0    2000\n",
              "3.0    2000\n",
              "4.0    2000\n",
              "Name: 187, dtype: int64"
            ]
          },
          "metadata": {},
          "execution_count": 27
        }
      ]
    },
    {
      "cell_type": "code",
      "source": [
        "plt.bar(train_target.index,train_target.values, color = 'green');"
      ],
      "metadata": {
        "colab": {
          "base_uri": "https://localhost:8080/",
          "height": 265
        },
        "id": "ZCE8CdWF8D5L",
        "outputId": "0d2a8f99-1ea7-498d-ad04-1fa61dd5b5bb"
      },
      "execution_count": null,
      "outputs": [
        {
          "output_type": "display_data",
          "data": {
            "text/plain": [
              "<Figure size 432x288 with 1 Axes>"
            ],
            "image/png": "[encoded data removed]"
          },
          "metadata": {
            "needs_background": "light"
          }
        }
      ]
    },
    {
      "cell_type": "code",
      "source": [
        "sorted_counts = train_data[187].value_counts();\n",
        "plt.figure(figsize = [12,5.01])\n",
        "plt.pie(sorted_counts, labels = sorted_counts.index, startangle = 90,\n",
        "        counterclock = False);\n",
        "plt.axis('square');"
      ],
      "metadata": {
        "colab": {
          "base_uri": "https://localhost:8080/",
          "height": 308
        },
        "id": "ejdOT7FZ8Ft2",
        "outputId": "e9e7390c-6080-467a-cb61-42c34a71ea53"
      },
      "execution_count": null,
      "outputs": [
        {
          "output_type": "display_data",
          "data": {
            "text/plain": [
              "<Figure size 864x360.72 with 1 Axes>"
            ],
            "image/png": "[encoded data removed]"
          },
          "metadata": {}
        }
      ]
    },
    {
      "cell_type": "code",
      "source": [
        "from scipy import stats"
      ],
      "metadata": {
        "id": "twxbQdqo8IVU"
      },
      "execution_count": null,
      "outputs": []
    },
    {
      "cell_type": "code",
      "source": [
        "pearson_coef, p_value = stats.pearsonr(train_data[1], train_data[187])"
      ],
      "metadata": {
        "id": "MeVXRVvO8Jz8"
      },
      "execution_count": null,
      "outputs": []
    },
    {
      "cell_type": "code",
      "source": [
        "l = [('1', 1),('2',2),('3',3)]"
      ],
      "metadata": {
        "id": "kW1-SpTd8Ln0"
      },
      "execution_count": null,
      "outputs": []
    },
    {
      "cell_type": "code",
      "source": [
        "if max(l):\n",
        "    print(l)"
      ],
      "metadata": {
        "colab": {
          "base_uri": "https://localhost:8080/"
        },
        "id": "AJ3hfVHX8NE0",
        "outputId": "a78384b2-bb72-41cc-eacd-f90aa6f71030"
      },
      "execution_count": null,
      "outputs": [
        {
          "output_type": "stream",
          "name": "stdout",
          "text": [
            "[('1', 1), ('2', 2), ('3', 3)]\n"
          ]
        }
      ]
    },
    {
      "cell_type": "code",
      "source": [
        "max(l)"
      ],
      "metadata": {
        "colab": {
          "base_uri": "https://localhost:8080/"
        },
        "id": "NJDhOhw08O7M",
        "outputId": "63bcdcef-86f3-4470-db37-3e5356b13e1d"
      },
      "execution_count": null,
      "outputs": [
        {
          "output_type": "execute_result",
          "data": {
            "text/plain": [
              "('3', 3)"
            ]
          },
          "metadata": {},
          "execution_count": 34
        }
      ]
    },
    {
      "cell_type": "code",
      "source": [
        "effictive_list = []\n",
        "for i in train_data.columns:\n",
        "    if i != 187:\n",
        "        pearson_coef, p_value = stats.pearsonr(train_data[i], train_data[187])\n",
        "        effictive_list.append((f'column number : {i}', f'Pearson Correlation {pearson_coef}', f'P-value : {p_value}'))\n",
        "    else: break"
      ],
      "metadata": {
        "id": "yIBaz3bO8Rel"
      },
      "execution_count": null,
      "outputs": []
    },
    {
      "cell_type": "code",
      "source": [
        "print('*' * 75)\n",
        "print(max(effictive_list))\n",
        "print('*' * 75)"
      ],
      "metadata": {
        "colab": {
          "base_uri": "https://localhost:8080/"
        },
        "id": "_ZRt1nIx8UIU",
        "outputId": "cebc6a6b-267f-485d-abf3-b56fa0fb7688"
      },
      "execution_count": null,
      "outputs": [
        {
          "output_type": "stream",
          "name": "stdout",
          "text": [
            "***************************************************************************\n",
            "('column number : 99', 'Pearson Correlation 0.29915973057729633', 'P-value : 0.0')\n",
            "***************************************************************************\n"
          ]
        }
      ]
    },
    {
      "cell_type": "code",
      "source": [
        "def add_guassian_noise(signal):\n",
        "    noise = np.random.normal(0,0.05,186)\n",
        "    return(signal + noise)\n",
        "noise_data = add_guassian_noise(train_data.iloc[0,:186])\n",
        "plt.figure(figsize = [12,4.02])\n",
        "plt.plot(train_data.iloc[0,:186], color = 'green')\n",
        "plt.title('data without noise')\n",
        "plt.xlabel('ECG in mili volts')\n",
        "plt.ylabel('time in seconds')"
      ],
      "metadata": {
        "colab": {
          "base_uri": "https://localhost:8080/",
          "height": 313
        },
        "id": "1XHB6mTY8WOt",
        "outputId": "aaf0b24a-2095-44f9-88a3-c1ea3f37ebe9"
      },
      "execution_count": null,
      "outputs": [
        {
          "output_type": "execute_result",
          "data": {
            "text/plain": [
              "Text(0, 0.5, 'time in seconds')"
            ]
          },
          "metadata": {},
          "execution_count": 37
        },
        {
          "output_type": "display_data",
          "data": {
            "text/plain": [
              "<Figure size 864x289.44 with 1 Axes>"
            ],
            "image/png": "[encoded data removed]"
          },
          "metadata": {
            "needs_background": "light"
          }
        }
      ]
    },
    {
      "cell_type": "code",
      "source": [
        "plt.figure(figsize = [12,4.02])\n",
        "plt.plot(noise_data, color = 'red')\n",
        "plt.title('data with noise')\n",
        "plt.xlabel('ECG in mili volts')\n",
        "plt.ylabel('time in seconds')\n",
        "plt.show()"
      ],
      "metadata": {
        "colab": {
          "base_uri": "https://localhost:8080/",
          "height": 296
        },
        "id": "F9AAfxBO8XZk",
        "outputId": "1628587d-0227-4044-9374-830a14169f32"
      },
      "execution_count": null,
      "outputs": [
        {
          "output_type": "display_data",
          "data": {
            "text/plain": [
              "<Figure size 864x289.44 with 1 Axes>"
            ],
            "image/png": "[encoded data removed]"
          },
          "metadata": {
            "needs_background": "light"
          }
        }
      ]
    },
    {
      "cell_type": "code",
      "source": [
        "len(train_data.columns)/60"
      ],
      "metadata": {
        "colab": {
          "base_uri": "https://localhost:8080/"
        },
        "id": "7lQF1IXt8aSD",
        "outputId": "59a6307b-76b6-4ac8-bdff-1312c334fe25"
      },
      "execution_count": null,
      "outputs": [
        {
          "output_type": "execute_result",
          "data": {
            "text/plain": [
              "3.1333333333333333"
            ]
          },
          "metadata": {},
          "execution_count": 39
        }
      ]
    },
    {
      "cell_type": "code",
      "source": [
        "df = train_data.copy()"
      ],
      "metadata": {
        "id": "w1bOJym88b77"
      },
      "execution_count": null,
      "outputs": []
    },
    {
      "cell_type": "code",
      "source": [
        "counter = 0\n",
        "while counter <= len(df.columns):\n",
        "    if counter != 186:\n",
        "        df[counter] = df[counter] + df[counter + 1] + df[counter + 2] \n",
        "        counter += 3\n",
        "    else: break"
      ],
      "metadata": {
        "id": "H3WuWiLV8dWt"
      },
      "execution_count": null,
      "outputs": []
    },
    {
      "cell_type": "code",
      "source": [
        "df.head()"
      ],
      "metadata": {
        "colab": {
          "base_uri": "https://localhost:8080/",
          "height": 299
        },
        "id": "cE2ANTCk8eq7",
        "outputId": "b28ab572-a581-4d0e-9170-53c8dea43ffd"
      },
      "execution_count": null,
      "outputs": [
        {
          "output_type": "execute_result",
          "data": {
            "text/plain": [
              "            0         1         2         3         4         5         6    \\\n",
              "10153  1.459302  0.540698  0.755814  0.901163  0.168605  0.546512  1.965116   \n",
              "33886  2.273179  0.938742  0.344371  0.639073  0.273179  0.331126  1.014901   \n",
              "32005  2.496487  0.932084  0.590164  0.313817  0.014052  0.168618  0.646370   \n",
              "56159  2.228495  0.723118  0.526882  0.677419  0.220430  0.158602  0.263441   \n",
              "61783  1.732984  0.709424  0.060209  0.112565  0.057592  0.041885  0.120419   \n",
              "\n",
              "            7         8         9    ...  178  179  180  181  182  183  184  \\\n",
              "10153  0.697674  0.651163  2.116279  ...  0.0  0.0  0.0  0.0  0.0  0.0  0.0   \n",
              "33886  0.341060  0.347682  1.036424  ...  0.0  0.0  0.0  0.0  0.0  0.0  0.0   \n",
              "32005  0.210773  0.196721  0.627635  ...  0.0  0.0  0.0  0.0  0.0  0.0  0.0   \n",
              "56159  0.091398  0.080645  0.255376  ...  0.0  0.0  0.0  0.0  0.0  0.0  0.0   \n",
              "61783  0.034031  0.039267  0.138743  ...  0.0  0.0  0.0  0.0  0.0  0.0  0.0   \n",
              "\n",
              "       185  186  187  \n",
              "10153  0.0  0.0  0.0  \n",
              "33886  0.0  0.0  0.0  \n",
              "32005  0.0  0.0  0.0  \n",
              "56159  0.0  0.0  0.0  \n",
              "61783  0.0  0.0  0.0  \n",
              "\n",
              "[5 rows x 188 columns]"
            ],
            "text/html": [
              "\n",
              "  <div id=\"df-62e601b6-3861-4585-8eb7-3bf166b27fa4\">\n",
              "    <div class=\"colab-df-container\">\n",
              "      <div>\n",
              "<style scoped>\n",
              "    .dataframe tbody tr th:only-of-type {\n",
              "        vertical-align: middle;\n",
              "    }\n",
              "\n",
              "    .dataframe tbody tr th {\n",
              "        vertical-align: top;\n",
              "    }\n",
              "\n",
              "    .dataframe thead th {\n",
              "        text-align: right;\n",
              "    }\n",
              "</style>\n",
              "<table border=\"1\" class=\"dataframe\">\n",
              "  <thead>\n",
              "    <tr style=\"text-align: right;\">\n",
              "      <th></th>\n",
              "      <th>0</th>\n",
              "      <th>1</th>\n",
              "      <th>2</th>\n",
              "      <th>3</th>\n",
              "      <th>4</th>\n",
              "      <th>5</th>\n",
              "      <th>6</th>\n",
              "      <th>7</th>\n",
              "      <th>8</th>\n",
              "      <th>9</th>\n",
              "      <th>...</th>\n",
              "      <th>178</th>\n",
              "      <th>179</th>\n",
              "      <th>180</th>\n",
              "      <th>181</th>\n",
              "      <th>182</th>\n",
              "      <th>183</th>\n",
              "      <th>184</th>\n",
              "      <th>185</th>\n",
              "      <th>186</th>\n",
              "      <th>187</th>\n",
              "    </tr>\n",
              "  </thead>\n",
              "  <tbody>\n",
              "    <tr>\n",
              "      <th>10153</th>\n",
              "      <td>1.459302</td>\n",
              "      <td>0.540698</td>\n",
              "      <td>0.755814</td>\n",
              "      <td>0.901163</td>\n",
              "      <td>0.168605</td>\n",
              "      <td>0.546512</td>\n",
              "      <td>1.965116</td>\n",
              "      <td>0.697674</td>\n",
              "      <td>0.651163</td>\n",
              "      <td>2.116279</td>\n",
              "      <td>...</td>\n",
              "      <td>0.0</td>\n",
              "      <td>0.0</td>\n",
              "      <td>0.0</td>\n",
              "      <td>0.0</td>\n",
              "      <td>0.0</td>\n",
              "      <td>0.0</td>\n",
              "      <td>0.0</td>\n",
              "      <td>0.0</td>\n",
              "      <td>0.0</td>\n",
              "      <td>0.0</td>\n",
              "    </tr>\n",
              "    <tr>\n",
              "      <th>33886</th>\n",
              "      <td>2.273179</td>\n",
              "      <td>0.938742</td>\n",
              "      <td>0.344371</td>\n",
              "      <td>0.639073</td>\n",
              "      <td>0.273179</td>\n",
              "      <td>0.331126</td>\n",
              "      <td>1.014901</td>\n",
              "      <td>0.341060</td>\n",
              "      <td>0.347682</td>\n",
              "      <td>1.036424</td>\n",
              "      <td>...</td>\n",
              "      <td>0.0</td>\n",
              "      <td>0.0</td>\n",
              "      <td>0.0</td>\n",
              "      <td>0.0</td>\n",
              "      <td>0.0</td>\n",
              "      <td>0.0</td>\n",
              "      <td>0.0</td>\n",
              "      <td>0.0</td>\n",
              "      <td>0.0</td>\n",
              "      <td>0.0</td>\n",
              "    </tr>\n",
              "    <tr>\n",
              "      <th>32005</th>\n",
              "      <td>2.496487</td>\n",
              "      <td>0.932084</td>\n",
              "      <td>0.590164</td>\n",
              "      <td>0.313817</td>\n",
              "      <td>0.014052</td>\n",
              "      <td>0.168618</td>\n",
              "      <td>0.646370</td>\n",
              "      <td>0.210773</td>\n",
              "      <td>0.196721</td>\n",
              "      <td>0.627635</td>\n",
              "      <td>...</td>\n",
              "      <td>0.0</td>\n",
              "      <td>0.0</td>\n",
              "      <td>0.0</td>\n",
              "      <td>0.0</td>\n",
              "      <td>0.0</td>\n",
              "      <td>0.0</td>\n",
              "      <td>0.0</td>\n",
              "      <td>0.0</td>\n",
              "      <td>0.0</td>\n",
              "      <td>0.0</td>\n",
              "    </tr>\n",
              "    <tr>\n",
              "      <th>56159</th>\n",
              "      <td>2.228495</td>\n",
              "      <td>0.723118</td>\n",
              "      <td>0.526882</td>\n",
              "      <td>0.677419</td>\n",
              "      <td>0.220430</td>\n",
              "      <td>0.158602</td>\n",
              "      <td>0.263441</td>\n",
              "      <td>0.091398</td>\n",
              "      <td>0.080645</td>\n",
              "      <td>0.255376</td>\n",
              "      <td>...</td>\n",
              "      <td>0.0</td>\n",
              "      <td>0.0</td>\n",
              "      <td>0.0</td>\n",
              "      <td>0.0</td>\n",
              "      <td>0.0</td>\n",
              "      <td>0.0</td>\n",
              "      <td>0.0</td>\n",
              "      <td>0.0</td>\n",
              "      <td>0.0</td>\n",
              "      <td>0.0</td>\n",
              "    </tr>\n",
              "    <tr>\n",
              "      <th>61783</th>\n",
              "      <td>1.732984</td>\n",
              "      <td>0.709424</td>\n",
              "      <td>0.060209</td>\n",
              "      <td>0.112565</td>\n",
              "      <td>0.057592</td>\n",
              "      <td>0.041885</td>\n",
              "      <td>0.120419</td>\n",
              "      <td>0.034031</td>\n",
              "      <td>0.039267</td>\n",
              "      <td>0.138743</td>\n",
              "      <td>...</td>\n",
              "      <td>0.0</td>\n",
              "      <td>0.0</td>\n",
              "      <td>0.0</td>\n",
              "      <td>0.0</td>\n",
              "      <td>0.0</td>\n",
              "      <td>0.0</td>\n",
              "      <td>0.0</td>\n",
              "      <td>0.0</td>\n",
              "      <td>0.0</td>\n",
              "      <td>0.0</td>\n",
              "    </tr>\n",
              "  </tbody>\n",
              "</table>\n",
              "<p>5 rows × 188 columns</p>\n",
              "</div>\n",
              "      <button class=\"colab-df-convert\" onclick=\"convertToInteractive('df-62e601b6-3861-4585-8eb7-3bf166b27fa4')\"\n",
              "              title=\"Convert this dataframe to an interactive table.\"\n",
              "              style=\"display:none;\">\n",
              "        \n",
              "  <svg xmlns=\"http://www.w3.org/2000/svg\" height=\"24px\"viewBox=\"0 0 24 24\"\n",
              "       width=\"24px\">\n",
              "    <path d=\"M0 0h24v24H0V0z\" fill=\"none\"/>\n",
              "    <path d=\"M18.56 5.44l.94 2.06.94-2.06 2.06-.94-2.06-.94-.94-2.06-.94 2.06-2.06.94zm-11 1L8.5 8.5l.94-2.06 2.06-.94-2.06-.94L8.5 2.5l-.94 2.06-2.06.94zm10 10l.94 2.06.94-2.06 2.06-.94-2.06-.94-.94-2.06-.94 2.06-2.06.94z\"/><path d=\"M17.41 7.96l-1.37-1.37c-.4-.4-.92-.59-1.43-.59-.52 0-1.04.2-1.43.59L10.3 9.45l-7.72 7.72c-.78.78-.78 2.05 0 2.83L4 21.41c.39.39.9.59 1.41.59.51 0 1.02-.2 1.41-.59l7.78-7.78 2.81-2.81c.8-.78.8-2.07 0-2.86zM5.41 20L4 18.59l7.72-7.72 1.47 1.35L5.41 20z\"/>\n",
              "  </svg>\n",
              "      </button>\n",
              "      \n",
              "  <style>\n",
              "    .colab-df-container {\n",
              "      display:flex;\n",
              "      flex-wrap:wrap;\n",
              "      gap: 12px;\n",
              "    }\n",
              "\n",
              "    .colab-df-convert {\n",
              "      background-color: #E8F0FE;\n",
              "      border: none;\n",
              "      border-radius: 50%;\n",
              "      cursor: pointer;\n",
              "      display: none;\n",
              "      fill: #1967D2;\n",
              "      height: 32px;\n",
              "      padding: 0 0 0 0;\n",
              "      width: 32px;\n",
              "    }\n",
              "\n",
              "    .colab-df-convert:hover {\n",
              "      background-color: #E2EBFA;\n",
              "      box-shadow: 0px 1px 2px rgba(60, 64, 67, 0.3), 0px 1px 3px 1px rgba(60, 64, 67, 0.15);\n",
              "      fill: #174EA6;\n",
              "    }\n",
              "\n",
              "    [theme=dark] .colab-df-convert {\n",
              "      background-color: #3B4455;\n",
              "      fill: #D2E3FC;\n",
              "    }\n",
              "\n",
              "    [theme=dark] .colab-df-convert:hover {\n",
              "      background-color: #434B5C;\n",
              "      box-shadow: 0px 1px 3px 1px rgba(0, 0, 0, 0.15);\n",
              "      filter: drop-shadow(0px 1px 2px rgba(0, 0, 0, 0.3));\n",
              "      fill: #FFFFFF;\n",
              "    }\n",
              "  </style>\n",
              "\n",
              "      <script>\n",
              "        const buttonEl =\n",
              "          document.querySelector('#df-62e601b6-3861-4585-8eb7-3bf166b27fa4 button.colab-df-convert');\n",
              "        buttonEl.style.display =\n",
              "          google.colab.kernel.accessAllowed ? 'block' : 'none';\n",
              "\n",
              "        async function convertToInteractive(key) {\n",
              "          const element = document.querySelector('#df-62e601b6-3861-4585-8eb7-3bf166b27fa4');\n",
              "          const dataTable =\n",
              "            await google.colab.kernel.invokeFunction('convertToInteractive',\n",
              "                                                     [key], {});\n",
              "          if (!dataTable) return;\n",
              "\n",
              "          const docLinkHtml = 'Like what you see? Visit the ' +\n",
              "            '<a target=\"_blank\" href=https://colab.research.google.com/notebooks/data_table.ipynb>data table notebook</a>'\n",
              "            + ' to learn more about interactive tables.';\n",
              "          element.innerHTML = '';\n",
              "          dataTable['output_type'] = 'display_data';\n",
              "          await google.colab.output.renderOutput(dataTable, element);\n",
              "          const docLink = document.createElement('div');\n",
              "          docLink.innerHTML = docLinkHtml;\n",
              "          element.appendChild(docLink);\n",
              "        }\n",
              "      </script>\n",
              "    </div>\n",
              "  </div>\n",
              "  "
            ]
          },
          "metadata": {},
          "execution_count": 42
        }
      ]
    },
    {
      "cell_type": "code",
      "source": [
        "plt.figure(figsize = [12,4.02])\n",
        "plt.plot(df.iloc[0,:186], color = 'green')\n",
        "plt.title('data without noise');\n",
        "plt.ylabel('ECG in mili volts');\n",
        "plt.xlabel('time in minutes');"
      ],
      "metadata": {
        "colab": {
          "base_uri": "https://localhost:8080/",
          "height": 296
        },
        "id": "cbOrKJ9E8gRM",
        "outputId": "65b05199-9878-456e-9a2c-210bf2658025"
      },
      "execution_count": null,
      "outputs": [
        {
          "output_type": "display_data",
          "data": {
            "text/plain": [
              "<Figure size 864x289.44 with 1 Axes>"
            ],
            "image/png": "[encoded data removed]"
          },
          "metadata": {
            "needs_background": "light"
          }
        }
      ]
    },
    {
      "cell_type": "code",
      "source": [
        "def add_guassian_noise2(signal):\n",
        "    noise = np.random.normal(0,500,186)\n",
        "    return(signal + noise)\n",
        "plt.figure(figsize = [12,4.02])\n",
        "plt.plot(add_guassian_noise2(df.iloc[0,:186]), color = 'red')\n",
        "plt.title('data with noise')\n",
        "plt.ylabel('ECG in mili volts')\n",
        "plt.xlabel('time in minutes')\n",
        "plt.show()"
      ],
      "metadata": {
        "colab": {
          "base_uri": "https://localhost:8080/",
          "height": 296
        },
        "id": "PkblLLxl8htz",
        "outputId": "8de41b10-3618-42a0-d626-b3f0c485b579"
      },
      "execution_count": null,
      "outputs": [
        {
          "output_type": "display_data",
          "data": {
            "text/plain": [
              "<Figure size 864x289.44 with 1 Axes>"
            ],
            "image/png": "[encoded data removed]"
          },
          "metadata": {
            "needs_background": "light"
          }
        }
      ]
    },
    {
      "cell_type": "code",
      "source": [
        "df.head()"
      ],
      "metadata": {
        "colab": {
          "base_uri": "https://localhost:8080/",
          "height": 299
        },
        "id": "trCgXbw48jkz",
        "outputId": "39ffe643-aecc-4960-cd6b-21867f590995"
      },
      "execution_count": null,
      "outputs": [
        {
          "output_type": "execute_result",
          "data": {
            "text/plain": [
              "            0         1         2         3         4         5         6    \\\n",
              "10153  1.459302  0.540698  0.755814  0.901163  0.168605  0.546512  1.965116   \n",
              "33886  2.273179  0.938742  0.344371  0.639073  0.273179  0.331126  1.014901   \n",
              "32005  2.496487  0.932084  0.590164  0.313817  0.014052  0.168618  0.646370   \n",
              "56159  2.228495  0.723118  0.526882  0.677419  0.220430  0.158602  0.263441   \n",
              "61783  1.732984  0.709424  0.060209  0.112565  0.057592  0.041885  0.120419   \n",
              "\n",
              "            7         8         9    ...  178  179  180  181  182  183  184  \\\n",
              "10153  0.697674  0.651163  2.116279  ...  0.0  0.0  0.0  0.0  0.0  0.0  0.0   \n",
              "33886  0.341060  0.347682  1.036424  ...  0.0  0.0  0.0  0.0  0.0  0.0  0.0   \n",
              "32005  0.210773  0.196721  0.627635  ...  0.0  0.0  0.0  0.0  0.0  0.0  0.0   \n",
              "56159  0.091398  0.080645  0.255376  ...  0.0  0.0  0.0  0.0  0.0  0.0  0.0   \n",
              "61783  0.034031  0.039267  0.138743  ...  0.0  0.0  0.0  0.0  0.0  0.0  0.0   \n",
              "\n",
              "       185  186  187  \n",
              "10153  0.0  0.0  0.0  \n",
              "33886  0.0  0.0  0.0  \n",
              "32005  0.0  0.0  0.0  \n",
              "56159  0.0  0.0  0.0  \n",
              "61783  0.0  0.0  0.0  \n",
              "\n",
              "[5 rows x 188 columns]"
            ],
            "text/html": [
              "\n",
              "  <div id=\"df-1eb1bce7-5054-496f-960d-739e06257139\">\n",
              "    <div class=\"colab-df-container\">\n",
              "      <div>\n",
              "<style scoped>\n",
              "    .dataframe tbody tr th:only-of-type {\n",
              "        vertical-align: middle;\n",
              "    }\n",
              "\n",
              "    .dataframe tbody tr th {\n",
              "        vertical-align: top;\n",
              "    }\n",
              "\n",
              "    .dataframe thead th {\n",
              "        text-align: right;\n",
              "    }\n",
              "</style>\n",
              "<table border=\"1\" class=\"dataframe\">\n",
              "  <thead>\n",
              "    <tr style=\"text-align: right;\">\n",
              "      <th></th>\n",
              "      <th>0</th>\n",
              "      <th>1</th>\n",
              "      <th>2</th>\n",
              "      <th>3</th>\n",
              "      <th>4</th>\n",
              "      <th>5</th>\n",
              "      <th>6</th>\n",
              "      <th>7</th>\n",
              "      <th>8</th>\n",
              "      <th>9</th>\n",
              "      <th>...</th>\n",
              "      <th>178</th>\n",
              "      <th>179</th>\n",
              "      <th>180</th>\n",
              "      <th>181</th>\n",
              "      <th>182</th>\n",
              "      <th>183</th>\n",
              "      <th>184</th>\n",
              "      <th>185</th>\n",
              "      <th>186</th>\n",
              "      <th>187</th>\n",
              "    </tr>\n",
              "  </thead>\n",
              "  <tbody>\n",
              "    <tr>\n",
              "      <th>10153</th>\n",
              "      <td>1.459302</td>\n",
              "      <td>0.540698</td>\n",
              "      <td>0.755814</td>\n",
              "      <td>0.901163</td>\n",
              "      <td>0.168605</td>\n",
              "      <td>0.546512</td>\n",
              "      <td>1.965116</td>\n",
              "      <td>0.697674</td>\n",
              "      <td>0.651163</td>\n",
              "      <td>2.116279</td>\n",
              "      <td>...</td>\n",
              "      <td>0.0</td>\n",
              "      <td>0.0</td>\n",
              "      <td>0.0</td>\n",
              "      <td>0.0</td>\n",
              "      <td>0.0</td>\n",
              "      <td>0.0</td>\n",
              "      <td>0.0</td>\n",
              "      <td>0.0</td>\n",
              "      <td>0.0</td>\n",
              "      <td>0.0</td>\n",
              "    </tr>\n",
              "    <tr>\n",
              "      <th>33886</th>\n",
              "      <td>2.273179</td>\n",
              "      <td>0.938742</td>\n",
              "      <td>0.344371</td>\n",
              "      <td>0.639073</td>\n",
              "      <td>0.273179</td>\n",
              "      <td>0.331126</td>\n",
              "      <td>1.014901</td>\n",
              "      <td>0.341060</td>\n",
              "      <td>0.347682</td>\n",
              "      <td>1.036424</td>\n",
              "      <td>...</td>\n",
              "      <td>0.0</td>\n",
              "      <td>0.0</td>\n",
              "      <td>0.0</td>\n",
              "      <td>0.0</td>\n",
              "      <td>0.0</td>\n",
              "      <td>0.0</td>\n",
              "      <td>0.0</td>\n",
              "      <td>0.0</td>\n",
              "      <td>0.0</td>\n",
              "      <td>0.0</td>\n",
              "    </tr>\n",
              "    <tr>\n",
              "      <th>32005</th>\n",
              "      <td>2.496487</td>\n",
              "      <td>0.932084</td>\n",
              "      <td>0.590164</td>\n",
              "      <td>0.313817</td>\n",
              "      <td>0.014052</td>\n",
              "      <td>0.168618</td>\n",
              "      <td>0.646370</td>\n",
              "      <td>0.210773</td>\n",
              "      <td>0.196721</td>\n",
              "      <td>0.627635</td>\n",
              "      <td>...</td>\n",
              "      <td>0.0</td>\n",
              "      <td>0.0</td>\n",
              "      <td>0.0</td>\n",
              "      <td>0.0</td>\n",
              "      <td>0.0</td>\n",
              "      <td>0.0</td>\n",
              "      <td>0.0</td>\n",
              "      <td>0.0</td>\n",
              "      <td>0.0</td>\n",
              "      <td>0.0</td>\n",
              "    </tr>\n",
              "    <tr>\n",
              "      <th>56159</th>\n",
              "      <td>2.228495</td>\n",
              "      <td>0.723118</td>\n",
              "      <td>0.526882</td>\n",
              "      <td>0.677419</td>\n",
              "      <td>0.220430</td>\n",
              "      <td>0.158602</td>\n",
              "      <td>0.263441</td>\n",
              "      <td>0.091398</td>\n",
              "      <td>0.080645</td>\n",
              "      <td>0.255376</td>\n",
              "      <td>...</td>\n",
              "      <td>0.0</td>\n",
              "      <td>0.0</td>\n",
              "      <td>0.0</td>\n",
              "      <td>0.0</td>\n",
              "      <td>0.0</td>\n",
              "      <td>0.0</td>\n",
              "      <td>0.0</td>\n",
              "      <td>0.0</td>\n",
              "      <td>0.0</td>\n",
              "      <td>0.0</td>\n",
              "    </tr>\n",
              "    <tr>\n",
              "      <th>61783</th>\n",
              "      <td>1.732984</td>\n",
              "      <td>0.709424</td>\n",
              "      <td>0.060209</td>\n",
              "      <td>0.112565</td>\n",
              "      <td>0.057592</td>\n",
              "      <td>0.041885</td>\n",
              "      <td>0.120419</td>\n",
              "      <td>0.034031</td>\n",
              "      <td>0.039267</td>\n",
              "      <td>0.138743</td>\n",
              "      <td>...</td>\n",
              "      <td>0.0</td>\n",
              "      <td>0.0</td>\n",
              "      <td>0.0</td>\n",
              "      <td>0.0</td>\n",
              "      <td>0.0</td>\n",
              "      <td>0.0</td>\n",
              "      <td>0.0</td>\n",
              "      <td>0.0</td>\n",
              "      <td>0.0</td>\n",
              "      <td>0.0</td>\n",
              "    </tr>\n",
              "  </tbody>\n",
              "</table>\n",
              "<p>5 rows × 188 columns</p>\n",
              "</div>\n",
              "      <button class=\"colab-df-convert\" onclick=\"convertToInteractive('df-1eb1bce7-5054-496f-960d-739e06257139')\"\n",
              "              title=\"Convert this dataframe to an interactive table.\"\n",
              "              style=\"display:none;\">\n",
              "        \n",
              "  <svg xmlns=\"http://www.w3.org/2000/svg\" height=\"24px\"viewBox=\"0 0 24 24\"\n",
              "       width=\"24px\">\n",
              "    <path d=\"M0 0h24v24H0V0z\" fill=\"none\"/>\n",
              "    <path d=\"M18.56 5.44l.94 2.06.94-2.06 2.06-.94-2.06-.94-.94-2.06-.94 2.06-2.06.94zm-11 1L8.5 8.5l.94-2.06 2.06-.94-2.06-.94L8.5 2.5l-.94 2.06-2.06.94zm10 10l.94 2.06.94-2.06 2.06-.94-2.06-.94-.94-2.06-.94 2.06-2.06.94z\"/><path d=\"M17.41 7.96l-1.37-1.37c-.4-.4-.92-.59-1.43-.59-.52 0-1.04.2-1.43.59L10.3 9.45l-7.72 7.72c-.78.78-.78 2.05 0 2.83L4 21.41c.39.39.9.59 1.41.59.51 0 1.02-.2 1.41-.59l7.78-7.78 2.81-2.81c.8-.78.8-2.07 0-2.86zM5.41 20L4 18.59l7.72-7.72 1.47 1.35L5.41 20z\"/>\n",
              "  </svg>\n",
              "      </button>\n",
              "      \n",
              "  <style>\n",
              "    .colab-df-container {\n",
              "      display:flex;\n",
              "      flex-wrap:wrap;\n",
              "      gap: 12px;\n",
              "    }\n",
              "\n",
              "    .colab-df-convert {\n",
              "      background-color: #E8F0FE;\n",
              "      border: none;\n",
              "      border-radius: 50%;\n",
              "      cursor: pointer;\n",
              "      display: none;\n",
              "      fill: #1967D2;\n",
              "      height: 32px;\n",
              "      padding: 0 0 0 0;\n",
              "      width: 32px;\n",
              "    }\n",
              "\n",
              "    .colab-df-convert:hover {\n",
              "      background-color: #E2EBFA;\n",
              "      box-shadow: 0px 1px 2px rgba(60, 64, 67, 0.3), 0px 1px 3px 1px rgba(60, 64, 67, 0.15);\n",
              "      fill: #174EA6;\n",
              "    }\n",
              "\n",
              "    [theme=dark] .colab-df-convert {\n",
              "      background-color: #3B4455;\n",
              "      fill: #D2E3FC;\n",
              "    }\n",
              "\n",
              "    [theme=dark] .colab-df-convert:hover {\n",
              "      background-color: #434B5C;\n",
              "      box-shadow: 0px 1px 3px 1px rgba(0, 0, 0, 0.15);\n",
              "      filter: drop-shadow(0px 1px 2px rgba(0, 0, 0, 0.3));\n",
              "      fill: #FFFFFF;\n",
              "    }\n",
              "  </style>\n",
              "\n",
              "      <script>\n",
              "        const buttonEl =\n",
              "          document.querySelector('#df-1eb1bce7-5054-496f-960d-739e06257139 button.colab-df-convert');\n",
              "        buttonEl.style.display =\n",
              "          google.colab.kernel.accessAllowed ? 'block' : 'none';\n",
              "\n",
              "        async function convertToInteractive(key) {\n",
              "          const element = document.querySelector('#df-1eb1bce7-5054-496f-960d-739e06257139');\n",
              "          const dataTable =\n",
              "            await google.colab.kernel.invokeFunction('convertToInteractive',\n",
              "                                                     [key], {});\n",
              "          if (!dataTable) return;\n",
              "\n",
              "          const docLinkHtml = 'Like what you see? Visit the ' +\n",
              "            '<a target=\"_blank\" href=https://colab.research.google.com/notebooks/data_table.ipynb>data table notebook</a>'\n",
              "            + ' to learn more about interactive tables.';\n",
              "          element.innerHTML = '';\n",
              "          dataTable['output_type'] = 'display_data';\n",
              "          await google.colab.output.renderOutput(dataTable, element);\n",
              "          const docLink = document.createElement('div');\n",
              "          docLink.innerHTML = docLinkHtml;\n",
              "          element.appendChild(docLink);\n",
              "        }\n",
              "      </script>\n",
              "    </div>\n",
              "  </div>\n",
              "  "
            ]
          },
          "metadata": {},
          "execution_count": 45
        }
      ]
    },
    {
      "cell_type": "code",
      "source": [
        "x = train_data.iloc[0,:].values"
      ],
      "metadata": {
        "id": "sDdvODsQ8lZb"
      },
      "execution_count": null,
      "outputs": []
    },
    {
      "cell_type": "code",
      "source": [
        "from numpy.fft import fft, ifft"
      ],
      "metadata": {
        "id": "cWISHg8u8m7E"
      },
      "execution_count": null,
      "outputs": []
    },
    {
      "cell_type": "code",
      "source": [
        "x = train_data.iloc[0,:]\n",
        "X = fft(x)"
      ],
      "metadata": {
        "id": "QgPMdovN8oJt"
      },
      "execution_count": null,
      "outputs": []
    },
    {
      "cell_type": "code",
      "source": [
        "plt.plot(X)"
      ],
      "metadata": {
        "colab": {
          "base_uri": "https://localhost:8080/",
          "height": 337
        },
        "id": "d2288Y3j8pre",
        "outputId": "d2b01632-e9f2-4742-9ef8-13e9ccc625bc"
      },
      "execution_count": null,
      "outputs": [
        {
          "output_type": "stream",
          "name": "stderr",
          "text": [
            "/usr/local/lib/python3.8/dist-packages/matplotlib/cbook/__init__.py:1317: ComplexWarning: Casting complex values to real discards the imaginary part\n",
            "  return np.asarray(x, float)\n"
          ]
        },
        {
          "output_type": "execute_result",
          "data": {
            "text/plain": [
              "[<matplotlib.lines.Line2D at 0x7fa31236c9a0>]"
            ]
          },
          "metadata": {},
          "execution_count": 49
        },
        {
          "output_type": "display_data",
          "data": {
            "text/plain": [
              "<Figure size 432x288 with 1 Axes>"
            ],
            "image/png": "[encoded data removed]"
          },
          "metadata": {
            "needs_background": "light"
          }
        }
      ]
    },
    {
      "cell_type": "code",
      "source": [
        "X = fft(train_data.iloc[0,:186])\n",
        "N = len(X)\n",
        "n = np.arange(N)\n",
        "# get the sampling rate\n",
        "sr = 1 / (60*60)\n",
        "T = N/sr\n",
        "freq = n/T \n",
        "\n",
        "# Get the one-sided specturm\n",
        "n_oneside = N//2\n",
        "# get the one side frequency\n",
        "f_oneside = freq[:n_oneside]\n",
        "\n",
        "plt.figure(figsize = (12, 6))\n",
        "plt.plot(f_oneside, np.abs(X[:n_oneside]), 'b')\n",
        "plt.xlabel('Freq (Hz)')\n",
        "plt.ylabel('FFT Amplitude |X(freq)|')\n",
        "plt.show()"
      ],
      "metadata": {
        "colab": {
          "base_uri": "https://localhost:8080/",
          "height": 388
        },
        "id": "6fcBo5h-8ruc",
        "outputId": "4b4e40bc-2950-4b0b-9b77-54949d00c169"
      },
      "execution_count": null,
      "outputs": [
        {
          "output_type": "display_data",
          "data": {
            "text/plain": [
              "<Figure size 864x432 with 1 Axes>"
            ],
            "image/png": "[encoded data removed]"
          },
          "metadata": {
            "needs_background": "light"
          }
        }
      ]
    },
    {
      "cell_type": "code",
      "source": [
        "N = len(X)\n",
        "n = np.arange(N)\n",
        "T = N/sr\n",
        "freq = n/T"
      ],
      "metadata": {
        "id": "yJMeyCf_8tXE"
      },
      "execution_count": null,
      "outputs": []
    },
    {
      "cell_type": "code",
      "source": [
        "plt.stem(freq, np.abs(X), 'b', \\\n",
        "         markerfmt=\" \", basefmt=\"-b\")\n",
        "plt.xlabel('Freq (Hz)')\n",
        "plt.ylabel('FFT Amplitude |X(freq)|')\n",
        "plt.xlim(0, 10);"
      ],
      "metadata": {
        "colab": {
          "base_uri": "https://localhost:8080/",
          "height": 334
        },
        "id": "MGlsQnms8u3M",
        "outputId": "7c4aba1a-dd82-44cf-e408-419ae1a45d48"
      },
      "execution_count": null,
      "outputs": [
        {
          "output_type": "stream",
          "name": "stderr",
          "text": [
            "<ipython-input-52-9742c3b0f268>:1: UserWarning: In Matplotlib 3.3 individual lines on a stem plot will be added as a LineCollection instead of individual lines. This significantly improves the performance of a stem plot. To remove this warning and switch to the new behaviour, set the \"use_line_collection\" keyword argument to True.\n",
            "  plt.stem(freq, np.abs(X), 'b', \\\n"
          ]
        },
        {
          "output_type": "display_data",
          "data": {
            "text/plain": [
              "<Figure size 432x288 with 1 Axes>"
            ],
            "image/png": "[encoded data removed]"
          },
          "metadata": {
            "needs_background": "light"
          }
        }
      ]
    },
    {
      "cell_type": "code",
      "source": [
        "plt.plot(ifft(X), 'r')\n",
        "plt.xlabel('Time (s)')\n",
        "plt.ylabel('Amplitude')\n",
        "plt.tight_layout()\n",
        "plt.show()"
      ],
      "metadata": {
        "colab": {
          "base_uri": "https://localhost:8080/",
          "height": 352
        },
        "id": "OtxTsSY58wb8",
        "outputId": "e607d785-a891-4833-f35e-94dc30bfc4b2"
      },
      "execution_count": null,
      "outputs": [
        {
          "output_type": "stream",
          "name": "stderr",
          "text": [
            "/usr/local/lib/python3.8/dist-packages/matplotlib/cbook/__init__.py:1317: ComplexWarning: Casting complex values to real discards the imaginary part\n",
            "  return np.asarray(x, float)\n"
          ]
        },
        {
          "output_type": "display_data",
          "data": {
            "text/plain": [
              "<Figure size 432x288 with 1 Axes>"
            ],
            "image/png": "[encoded data removed]"
          },
          "metadata": {
            "needs_background": "light"
          }
        }
      ]
    },
    {
      "cell_type": "code",
      "source": [
        "t_h = 1/f_oneside / (60 * 60)\n",
        "\n",
        "plt.figure(figsize=(12,6))\n",
        "plt.plot(t_h, np.abs(X[:n_oneside])/n_oneside)\n",
        "plt.xticks([12, 24, 84, 168])\n",
        "plt.xlim(0, 200)\n",
        "plt.xlabel('Period (hour)')\n",
        "plt.show()"
      ],
      "metadata": {
        "colab": {
          "base_uri": "https://localhost:8080/",
          "height": 423
        },
        "id": "-73a0gMw8x8s",
        "outputId": "1e378709-84f4-4945-ca83-2031592d78de"
      },
      "execution_count": null,
      "outputs": [
        {
          "output_type": "stream",
          "name": "stderr",
          "text": [
            "<ipython-input-54-fbd8897c203f>:1: RuntimeWarning: divide by zero encountered in true_divide\n",
            "  t_h = 1/f_oneside / (60 * 60)\n"
          ]
        },
        {
          "output_type": "display_data",
          "data": {
            "text/plain": [
              "<Figure size 864x432 with 1 Axes>"
            ],
            "image/png": "[encoded data removed]"
          },
          "metadata": {
            "needs_background": "light"
          }
        }
      ]
    },
    {
      "cell_type": "code",
      "source": [
        "from sklearn.model_selection import train_test_split"
      ],
      "metadata": {
        "id": "flpa-9cL8z6N"
      },
      "execution_count": null,
      "outputs": []
    },
    {
      "cell_type": "code",
      "source": [
        "X_train = train_data.drop(187, axis=1)\n",
        "y_train = train_data[187]"
      ],
      "metadata": {
        "id": "0LwFlg5T81Lv"
      },
      "execution_count": null,
      "outputs": []
    },
    {
      "cell_type": "code",
      "source": [
        "X_test = test_data.drop(187, axis=1)\n",
        "y_test = test_data[187]"
      ],
      "metadata": {
        "id": "Z9y-3krK82TE"
      },
      "execution_count": null,
      "outputs": []
    },
    {
      "cell_type": "code",
      "source": [
        "X_train = X_train.values\n",
        "y_train = y_train.values"
      ],
      "metadata": {
        "id": "C_Qx55QL83l_"
      },
      "execution_count": null,
      "outputs": []
    },
    {
      "cell_type": "code",
      "source": [
        "X_test = X_test.values\n",
        "y_test = y_test.values"
      ],
      "metadata": {
        "id": "R8xlhwTi842X"
      },
      "execution_count": null,
      "outputs": []
    },
    {
      "cell_type": "code",
      "source": [
        "unique, counts = np.unique(y_train, return_counts=True)\n",
        "\n",
        "pd.DataFrame(np.asarray((unique, counts)).T)"
      ],
      "metadata": {
        "colab": {
          "base_uri": "https://localhost:8080/",
          "height": 206
        },
        "id": "mGTAU8Lb86k2",
        "outputId": "c71d26e1-de23-4c3b-a782-92200890447b"
      },
      "execution_count": null,
      "outputs": [
        {
          "output_type": "execute_result",
          "data": {
            "text/plain": [
              "     0        1\n",
              "0  0.0  20000.0\n",
              "1  1.0  20000.0\n",
              "2  2.0  20000.0\n",
              "3  3.0  20000.0\n",
              "4  4.0  20000.0"
            ],
            "text/html": [
              "\n",
              "  <div id=\"df-8cb766b9-2628-4922-b974-2f0aaf7fcb63\">\n",
              "    <div class=\"colab-df-container\">\n",
              "      <div>\n",
              "<style scoped>\n",
              "    .dataframe tbody tr th:only-of-type {\n",
              "        vertical-align: middle;\n",
              "    }\n",
              "\n",
              "    .dataframe tbody tr th {\n",
              "        vertical-align: top;\n",
              "    }\n",
              "\n",
              "    .dataframe thead th {\n",
              "        text-align: right;\n",
              "    }\n",
              "</style>\n",
              "<table border=\"1\" class=\"dataframe\">\n",
              "  <thead>\n",
              "    <tr style=\"text-align: right;\">\n",
              "      <th></th>\n",
              "      <th>0</th>\n",
              "      <th>1</th>\n",
              "    </tr>\n",
              "  </thead>\n",
              "  <tbody>\n",
              "    <tr>\n",
              "      <th>0</th>\n",
              "      <td>0.0</td>\n",
              "      <td>20000.0</td>\n",
              "    </tr>\n",
              "    <tr>\n",
              "      <th>1</th>\n",
              "      <td>1.0</td>\n",
              "      <td>20000.0</td>\n",
              "    </tr>\n",
              "    <tr>\n",
              "      <th>2</th>\n",
              "      <td>2.0</td>\n",
              "      <td>20000.0</td>\n",
              "    </tr>\n",
              "    <tr>\n",
              "      <th>3</th>\n",
              "      <td>3.0</td>\n",
              "      <td>20000.0</td>\n",
              "    </tr>\n",
              "    <tr>\n",
              "      <th>4</th>\n",
              "      <td>4.0</td>\n",
              "      <td>20000.0</td>\n",
              "    </tr>\n",
              "  </tbody>\n",
              "</table>\n",
              "</div>\n",
              "      <button class=\"colab-df-convert\" onclick=\"convertToInteractive('df-8cb766b9-2628-4922-b974-2f0aaf7fcb63')\"\n",
              "              title=\"Convert this dataframe to an interactive table.\"\n",
              "              style=\"display:none;\">\n",
              "        \n",
              "  <svg xmlns=\"http://www.w3.org/2000/svg\" height=\"24px\"viewBox=\"0 0 24 24\"\n",
              "       width=\"24px\">\n",
              "    <path d=\"M0 0h24v24H0V0z\" fill=\"none\"/>\n",
              "    <path d=\"M18.56 5.44l.94 2.06.94-2.06 2.06-.94-2.06-.94-.94-2.06-.94 2.06-2.06.94zm-11 1L8.5 8.5l.94-2.06 2.06-.94-2.06-.94L8.5 2.5l-.94 2.06-2.06.94zm10 10l.94 2.06.94-2.06 2.06-.94-2.06-.94-.94-2.06-.94 2.06-2.06.94z\"/><path d=\"M17.41 7.96l-1.37-1.37c-.4-.4-.92-.59-1.43-.59-.52 0-1.04.2-1.43.59L10.3 9.45l-7.72 7.72c-.78.78-.78 2.05 0 2.83L4 21.41c.39.39.9.59 1.41.59.51 0 1.02-.2 1.41-.59l7.78-7.78 2.81-2.81c.8-.78.8-2.07 0-2.86zM5.41 20L4 18.59l7.72-7.72 1.47 1.35L5.41 20z\"/>\n",
              "  </svg>\n",
              "      </button>\n",
              "      \n",
              "  <style>\n",
              "    .colab-df-container {\n",
              "      display:flex;\n",
              "      flex-wrap:wrap;\n",
              "      gap: 12px;\n",
              "    }\n",
              "\n",
              "    .colab-df-convert {\n",
              "      background-color: #E8F0FE;\n",
              "      border: none;\n",
              "      border-radius: 50%;\n",
              "      cursor: pointer;\n",
              "      display: none;\n",
              "      fill: #1967D2;\n",
              "      height: 32px;\n",
              "      padding: 0 0 0 0;\n",
              "      width: 32px;\n",
              "    }\n",
              "\n",
              "    .colab-df-convert:hover {\n",
              "      background-color: #E2EBFA;\n",
              "      box-shadow: 0px 1px 2px rgba(60, 64, 67, 0.3), 0px 1px 3px 1px rgba(60, 64, 67, 0.15);\n",
              "      fill: #174EA6;\n",
              "    }\n",
              "\n",
              "    [theme=dark] .colab-df-convert {\n",
              "      background-color: #3B4455;\n",
              "      fill: #D2E3FC;\n",
              "    }\n",
              "\n",
              "    [theme=dark] .colab-df-convert:hover {\n",
              "      background-color: #434B5C;\n",
              "      box-shadow: 0px 1px 3px 1px rgba(0, 0, 0, 0.15);\n",
              "      filter: drop-shadow(0px 1px 2px rgba(0, 0, 0, 0.3));\n",
              "      fill: #FFFFFF;\n",
              "    }\n",
              "  </style>\n",
              "\n",
              "      <script>\n",
              "        const buttonEl =\n",
              "          document.querySelector('#df-8cb766b9-2628-4922-b974-2f0aaf7fcb63 button.colab-df-convert');\n",
              "        buttonEl.style.display =\n",
              "          google.colab.kernel.accessAllowed ? 'block' : 'none';\n",
              "\n",
              "        async function convertToInteractive(key) {\n",
              "          const element = document.querySelector('#df-8cb766b9-2628-4922-b974-2f0aaf7fcb63');\n",
              "          const dataTable =\n",
              "            await google.colab.kernel.invokeFunction('convertToInteractive',\n",
              "                                                     [key], {});\n",
              "          if (!dataTable) return;\n",
              "\n",
              "          const docLinkHtml = 'Like what you see? Visit the ' +\n",
              "            '<a target=\"_blank\" href=https://colab.research.google.com/notebooks/data_table.ipynb>data table notebook</a>'\n",
              "            + ' to learn more about interactive tables.';\n",
              "          element.innerHTML = '';\n",
              "          dataTable['output_type'] = 'display_data';\n",
              "          await google.colab.output.renderOutput(dataTable, element);\n",
              "          const docLink = document.createElement('div');\n",
              "          docLink.innerHTML = docLinkHtml;\n",
              "          element.appendChild(docLink);\n",
              "        }\n",
              "      </script>\n",
              "    </div>\n",
              "  </div>\n",
              "  "
            ]
          },
          "metadata": {},
          "execution_count": 60
        }
      ]
    },
    {
      "cell_type": "code",
      "source": [
        "val = X_train[0][1]"
      ],
      "metadata": {
        "id": "Z5ykHsKT88_l"
      },
      "execution_count": null,
      "outputs": []
    },
    {
      "cell_type": "code",
      "source": [
        "from sklearn.preprocessing import Normalizer\n",
        "from sklearn.preprocessing import StandardScaler"
      ],
      "metadata": {
        "id": "DC61ueKW8-l4"
      },
      "execution_count": null,
      "outputs": []
    },
    {
      "cell_type": "code",
      "source": [
        "norm = Normalizer()\n",
        "std = StandardScaler()"
      ],
      "metadata": {
        "id": "bk6eBbW-9ABu"
      },
      "execution_count": null,
      "outputs": []
    },
    {
      "cell_type": "code",
      "source": [
        "val1 = norm.fit_transform([[val]])\n",
        "val2 = std.fit_transform([[val]])"
      ],
      "metadata": {
        "id": "UfUzTle-9Bde"
      },
      "execution_count": null,
      "outputs": []
    },
    {
      "cell_type": "code",
      "source": [
        "from sklearn.linear_model import LogisticRegression\n",
        "from sklearn.neighbors import KNeighborsClassifier\n",
        "from sklearn.svm import SVC\n",
        "from sklearn.naive_bayes import GaussianNB\n",
        "from sklearn.tree import DecisionTreeClassifier\n",
        "from sklearn.ensemble import RandomForestClassifier\n",
        "from xgboost import XGBClassifier\n",
        "\n",
        "from sklearn.metrics import confusion_matrix, accuracy_score, precision_score, recall_score, f1_score, fbeta_score"
      ],
      "metadata": {
        "id": "5YOBmQeK9DXd"
      },
      "execution_count": null,
      "outputs": []
    },
    {
      "cell_type": "code",
      "source": [
        "models = {\n",
        "    \"LR\": LogisticRegression(solver='liblinear'),\n",
        "    \"KNN\": KNeighborsClassifier(),\n",
        "    \"DT\": DecisionTreeClassifier(),\n",
        "    \"RF\": RandomForestClassifier(),\n",
        "    \"XGB\": XGBClassifier(),\n",
        "    \"Naive Bayes\": GaussianNB(),\n",
        "    \"SVC\": SVC()\n",
        "\n",
        "}"
      ],
      "metadata": {
        "id": "q_S5XJeD9G5m"
      },
      "execution_count": null,
      "outputs": []
    },
    {
      "cell_type": "code",
      "source": [
        "type(X_train)"
      ],
      "metadata": {
        "colab": {
          "base_uri": "https://localhost:8080/"
        },
        "id": "Tu6pj0ih9Ije",
        "outputId": "70f0d4a8-c2d9-425b-acb5-31a4e0d1971b"
      },
      "execution_count": null,
      "outputs": [
        {
          "output_type": "execute_result",
          "data": {
            "text/plain": [
              "numpy.ndarray"
            ]
          },
          "metadata": {},
          "execution_count": 67
        }
      ]
    },
    {
      "cell_type": "code",
      "source": [
        "pip install scikit-learn  -U"
      ],
      "metadata": {
        "colab": {
          "base_uri": "https://localhost:8080/",
          "height": 363
        },
        "id": "brJlsukW9Kft",
        "outputId": "6b735fca-5dc9-4a18-d41d-ca360fc76f3f"
      },
      "execution_count": null,
      "outputs": [
        {
          "output_type": "stream",
          "name": "stdout",
          "text": [
            "Looking in indexes: https://pypi.org/simple, https://us-python.pkg.dev/colab-wheels/public/simple/\n",
            "Requirement already satisfied: scikit-learn in /usr/local/lib/python3.8/dist-packages (1.0.2)\n",
            "Collecting scikit-learn\n",
            "  Downloading scikit_learn-1.1.3-cp38-cp38-manylinux_2_17_x86_64.manylinux2014_x86_64.whl (31.2 MB)\n",
            "\u001b[K     |████████████████████████████████| 31.2 MB 1.2 MB/s \n",
            "\u001b[?25hRequirement already satisfied: threadpoolctl>=2.0.0 in /usr/local/lib/python3.8/dist-packages (from scikit-learn) (3.1.0)\n",
            "Requirement already satisfied: numpy>=1.17.3 in /usr/local/lib/python3.8/dist-packages (from scikit-learn) (1.21.6)\n",
            "Requirement already satisfied: scipy>=1.3.2 in /usr/local/lib/python3.8/dist-packages (from scikit-learn) (1.7.3)\n",
            "Requirement already satisfied: joblib>=1.0.0 in /usr/local/lib/python3.8/dist-packages (from scikit-learn) (1.2.0)\n",
            "Installing collected packages: scikit-learn\n",
            "  Attempting uninstall: scikit-learn\n",
            "    Found existing installation: scikit-learn 1.0.2\n",
            "    Uninstalling scikit-learn-1.0.2:\n",
            "      Successfully uninstalled scikit-learn-1.0.2\n",
            "Successfully installed scikit-learn-1.1.3\n"
          ]
        },
        {
          "output_type": "display_data",
          "data": {
            "application/vnd.colab-display-data+json": {
              "pip_warning": {
                "packages": [
                  "sklearn"
                ]
              }
            }
          },
          "metadata": {}
        }
      ]
    },
    {
      "cell_type": "code",
      "source": [
        "for name, model in models.items():\n",
        "    print(f'Training Model {name} \\n--------------')\n",
        "    model.fit(X_train, y_train)\n",
        "    y_pred = model.predict(X_test)\n",
        "    print(f'Training Accuracy: {accuracy_score(y_train, model.predict(X_train))}')\n",
        "    print(f'Testing Accuracy: {accuracy_score(y_test, y_pred)}')\n",
        "    print(f'Testing Confusion Matrix: \\n{confusion_matrix(y_test, y_pred)}')\n",
        "    print(\"Recall Score : \",recall_score(y_test, y_pred, pos_label='positive', average='micro'))    \n",
        "    print(\"Precision Score : \",precision_score(y_test, y_pred,  pos_label='positive',average='micro'))     \n",
        "    \n",
        "    \n",
        "    print(f\"Testing F-1:\", f1_score(y_test, y_pred, pos_label='positive', average='micro' )        )\n",
        "    \n",
        "    \n",
        "    \n",
        "    print(f\"Testing F-Beta:\", fbeta_score(y_test, y_pred, beta=0.5, pos_label='positive', average='micro'))\n",
        "    print('-'*30)"
      ],
      "metadata": {
        "colab": {
          "base_uri": "https://localhost:8080/"
        },
        "id": "8cmMYyBf9Pc3",
        "outputId": "60291cb4-d6dc-4760-9379-567208640875"
      },
      "execution_count": null,
      "outputs": [
        {
          "output_type": "stream",
          "name": "stdout",
          "text": [
            "Training Model LR \n",
            "--------------\n",
            "Training Accuracy: 0.77785\n",
            "Testing Accuracy: 0.7492\n",
            "Testing Confusion Matrix: \n",
            "[[1250  239  266  190   55]\n",
            " [ 514 1291  115   58   22]\n",
            " [ 210   66 1388  243   93]\n",
            " [ 153    0  132 1715    0]\n",
            " [  52   12   77   11 1848]]\n",
            "Recall Score :  0.7492\n",
            "Precision Score :  0.7492\n",
            "Testing F-1: 0.7492000000000001\n",
            "Testing F-Beta: 0.7492\n",
            "------------------------------\n",
            "Training Model KNN \n",
            "--------------\n"
          ]
        },
        {
          "output_type": "stream",
          "name": "stderr",
          "text": [
            "/usr/local/lib/python3.8/dist-packages/sklearn/metrics/_classification.py:1370: UserWarning: Note that pos_label (set to 'positive') is ignored when average != 'binary' (got 'micro'). You may use labels=[pos_label] to specify a single positive class.\n",
            "  if pos_label not in present_labels:\n",
            "/usr/local/lib/python3.8/dist-packages/sklearn/metrics/_classification.py:1370: UserWarning: Note that pos_label (set to 'positive') is ignored when average != 'binary' (got 'micro'). You may use labels=[pos_label] to specify a single positive class.\n",
            "  if pos_label not in present_labels:\n",
            "/usr/local/lib/python3.8/dist-packages/sklearn/metrics/_classification.py:1370: UserWarning: Note that pos_label (set to 'positive') is ignored when average != 'binary' (got 'micro'). You may use labels=[pos_label] to specify a single positive class.\n",
            "  if pos_label not in present_labels:\n",
            "/usr/local/lib/python3.8/dist-packages/sklearn/metrics/_classification.py:1370: UserWarning: Note that pos_label (set to 'positive') is ignored when average != 'binary' (got 'micro'). You may use labels=[pos_label] to specify a single positive class.\n",
            "  if pos_label not in present_labels:\n"
          ]
        },
        {
          "output_type": "stream",
          "name": "stdout",
          "text": [
            "Training Accuracy: 0.98929\n",
            "Testing Accuracy: 0.8997\n",
            "Testing Confusion Matrix: \n",
            "[[1868   71   39   16    6]\n",
            " [ 265 1642   73   11    9]\n",
            " [  24   30 1898   41    7]\n",
            " [ 131   15  226 1628    0]\n",
            " [  22    3   14    0 1961]]\n",
            "Recall Score :  0.8997\n",
            "Precision Score :  0.8997\n",
            "Testing F-1: 0.8997\n",
            "Testing F-Beta: 0.8996999999999999\n",
            "------------------------------\n",
            "Training Model DT \n",
            "--------------\n"
          ]
        },
        {
          "output_type": "stream",
          "name": "stderr",
          "text": [
            "/usr/local/lib/python3.8/dist-packages/sklearn/metrics/_classification.py:1370: UserWarning: Note that pos_label (set to 'positive') is ignored when average != 'binary' (got 'micro'). You may use labels=[pos_label] to specify a single positive class.\n",
            "  if pos_label not in present_labels:\n",
            "/usr/local/lib/python3.8/dist-packages/sklearn/metrics/_classification.py:1370: UserWarning: Note that pos_label (set to 'positive') is ignored when average != 'binary' (got 'micro'). You may use labels=[pos_label] to specify a single positive class.\n",
            "  if pos_label not in present_labels:\n",
            "/usr/local/lib/python3.8/dist-packages/sklearn/metrics/_classification.py:1370: UserWarning: Note that pos_label (set to 'positive') is ignored when average != 'binary' (got 'micro'). You may use labels=[pos_label] to specify a single positive class.\n",
            "  if pos_label not in present_labels:\n",
            "/usr/local/lib/python3.8/dist-packages/sklearn/metrics/_classification.py:1370: UserWarning: Note that pos_label (set to 'positive') is ignored when average != 'binary' (got 'micro'). You may use labels=[pos_label] to specify a single positive class.\n",
            "  if pos_label not in present_labels:\n"
          ]
        },
        {
          "output_type": "stream",
          "name": "stdout",
          "text": [
            "Training Accuracy: 1.0\n",
            "Testing Accuracy: 0.8326\n",
            "Testing Confusion Matrix: \n",
            "[[1889   43   41   13   14]\n",
            " [ 508 1403   63    3   23]\n",
            " [ 184   12 1737   37   30]\n",
            " [ 305   10  265 1391   29]\n",
            " [  56    7   31    0 1906]]\n",
            "Recall Score :  0.8326\n",
            "Precision Score :  0.8326\n",
            "Testing F-1: 0.8326\n",
            "Testing F-Beta: 0.8326\n",
            "------------------------------\n",
            "Training Model RF \n",
            "--------------\n"
          ]
        },
        {
          "output_type": "stream",
          "name": "stderr",
          "text": [
            "/usr/local/lib/python3.8/dist-packages/sklearn/metrics/_classification.py:1370: UserWarning: Note that pos_label (set to 'positive') is ignored when average != 'binary' (got 'micro'). You may use labels=[pos_label] to specify a single positive class.\n",
            "  if pos_label not in present_labels:\n",
            "/usr/local/lib/python3.8/dist-packages/sklearn/metrics/_classification.py:1370: UserWarning: Note that pos_label (set to 'positive') is ignored when average != 'binary' (got 'micro'). You may use labels=[pos_label] to specify a single positive class.\n",
            "  if pos_label not in present_labels:\n",
            "/usr/local/lib/python3.8/dist-packages/sklearn/metrics/_classification.py:1370: UserWarning: Note that pos_label (set to 'positive') is ignored when average != 'binary' (got 'micro'). You may use labels=[pos_label] to specify a single positive class.\n",
            "  if pos_label not in present_labels:\n",
            "/usr/local/lib/python3.8/dist-packages/sklearn/metrics/_classification.py:1370: UserWarning: Note that pos_label (set to 'positive') is ignored when average != 'binary' (got 'micro'). You may use labels=[pos_label] to specify a single positive class.\n",
            "  if pos_label not in present_labels:\n"
          ]
        },
        {
          "output_type": "stream",
          "name": "stdout",
          "text": [
            "Training Accuracy: 1.0\n",
            "Testing Accuracy: 0.8748\n",
            "Testing Confusion Matrix: \n",
            "[[1979   11    6    2    2]\n",
            " [ 532 1450    9    0    9]\n",
            " [  80    0 1890   21    9]\n",
            " [ 329    0  179 1492    0]\n",
            " [  56    1    6    0 1937]]\n",
            "Recall Score :  0.8748\n",
            "Precision Score :  0.8748\n",
            "Testing F-1: 0.8748\n",
            "Testing F-Beta: 0.8748\n",
            "------------------------------\n",
            "Training Model XGB \n",
            "--------------\n"
          ]
        },
        {
          "output_type": "stream",
          "name": "stderr",
          "text": [
            "/usr/local/lib/python3.8/dist-packages/sklearn/metrics/_classification.py:1370: UserWarning: Note that pos_label (set to 'positive') is ignored when average != 'binary' (got 'micro'). You may use labels=[pos_label] to specify a single positive class.\n",
            "  if pos_label not in present_labels:\n",
            "/usr/local/lib/python3.8/dist-packages/sklearn/metrics/_classification.py:1370: UserWarning: Note that pos_label (set to 'positive') is ignored when average != 'binary' (got 'micro'). You may use labels=[pos_label] to specify a single positive class.\n",
            "  if pos_label not in present_labels:\n",
            "/usr/local/lib/python3.8/dist-packages/sklearn/metrics/_classification.py:1370: UserWarning: Note that pos_label (set to 'positive') is ignored when average != 'binary' (got 'micro'). You may use labels=[pos_label] to specify a single positive class.\n",
            "  if pos_label not in present_labels:\n",
            "/usr/local/lib/python3.8/dist-packages/sklearn/metrics/_classification.py:1370: UserWarning: Note that pos_label (set to 'positive') is ignored when average != 'binary' (got 'micro'). You may use labels=[pos_label] to specify a single positive class.\n",
            "  if pos_label not in present_labels:\n"
          ]
        },
        {
          "output_type": "stream",
          "name": "stdout",
          "text": [
            "Training Accuracy: 0.90874\n",
            "Testing Accuracy: 0.8697\n",
            "Testing Confusion Matrix: \n",
            "[[1681  117   62  111   29]\n",
            " [ 405 1511   32   33   19]\n",
            " [  87   20 1781   74   38]\n",
            " [  90   12  102 1796    0]\n",
            " [  42    6   18    6 1928]]\n",
            "Recall Score :  0.8697\n",
            "Precision Score :  0.8697\n",
            "Testing F-1: 0.8697\n",
            "Testing F-Beta: 0.8697\n",
            "------------------------------\n",
            "Training Model Naive Bayes \n",
            "--------------\n"
          ]
        },
        {
          "output_type": "stream",
          "name": "stderr",
          "text": [
            "/usr/local/lib/python3.8/dist-packages/sklearn/metrics/_classification.py:1370: UserWarning: Note that pos_label (set to 'positive') is ignored when average != 'binary' (got 'micro'). You may use labels=[pos_label] to specify a single positive class.\n",
            "  if pos_label not in present_labels:\n",
            "/usr/local/lib/python3.8/dist-packages/sklearn/metrics/_classification.py:1370: UserWarning: Note that pos_label (set to 'positive') is ignored when average != 'binary' (got 'micro'). You may use labels=[pos_label] to specify a single positive class.\n",
            "  if pos_label not in present_labels:\n",
            "/usr/local/lib/python3.8/dist-packages/sklearn/metrics/_classification.py:1370: UserWarning: Note that pos_label (set to 'positive') is ignored when average != 'binary' (got 'micro'). You may use labels=[pos_label] to specify a single positive class.\n",
            "  if pos_label not in present_labels:\n",
            "/usr/local/lib/python3.8/dist-packages/sklearn/metrics/_classification.py:1370: UserWarning: Note that pos_label (set to 'positive') is ignored when average != 'binary' (got 'micro'). You may use labels=[pos_label] to specify a single positive class.\n",
            "  if pos_label not in present_labels:\n"
          ]
        },
        {
          "output_type": "stream",
          "name": "stdout",
          "text": [
            "Training Accuracy: 0.45545\n",
            "Testing Accuracy: 0.4574\n",
            "Testing Confusion Matrix: \n",
            "[[ 213    9  143  289 1346]\n",
            " [ 148  301  115  190 1246]\n",
            " [ 166    9  358  125 1342]\n",
            " [   0    0   14 1718  268]\n",
            " [   1    0    6    9 1984]]\n",
            "Recall Score :  0.4574\n",
            "Precision Score :  0.4574\n",
            "Testing F-1: 0.4574\n",
            "Testing F-Beta: 0.4573999999999999\n",
            "------------------------------\n",
            "Training Model SVC \n",
            "--------------\n"
          ]
        },
        {
          "output_type": "stream",
          "name": "stderr",
          "text": [
            "/usr/local/lib/python3.8/dist-packages/sklearn/metrics/_classification.py:1370: UserWarning: Note that pos_label (set to 'positive') is ignored when average != 'binary' (got 'micro'). You may use labels=[pos_label] to specify a single positive class.\n",
            "  if pos_label not in present_labels:\n",
            "/usr/local/lib/python3.8/dist-packages/sklearn/metrics/_classification.py:1370: UserWarning: Note that pos_label (set to 'positive') is ignored when average != 'binary' (got 'micro'). You may use labels=[pos_label] to specify a single positive class.\n",
            "  if pos_label not in present_labels:\n",
            "/usr/local/lib/python3.8/dist-packages/sklearn/metrics/_classification.py:1370: UserWarning: Note that pos_label (set to 'positive') is ignored when average != 'binary' (got 'micro'). You may use labels=[pos_label] to specify a single positive class.\n",
            "  if pos_label not in present_labels:\n",
            "/usr/local/lib/python3.8/dist-packages/sklearn/metrics/_classification.py:1370: UserWarning: Note that pos_label (set to 'positive') is ignored when average != 'binary' (got 'micro'). You may use labels=[pos_label] to specify a single positive class.\n",
            "  if pos_label not in present_labels:\n"
          ]
        },
        {
          "output_type": "stream",
          "name": "stdout",
          "text": [
            "Training Accuracy: 0.94759\n",
            "Testing Accuracy: 0.907\n",
            "Testing Confusion Matrix: \n",
            "[[1793   98   27   75    7]\n",
            " [ 302 1641   24   18   15]\n",
            " [  61   21 1828   84    6]\n",
            " [  63   15   78 1844    0]\n",
            " [  22    7    7    0 1964]]\n",
            "Recall Score :  0.907\n",
            "Precision Score :  0.907\n",
            "Testing F-1: 0.907\n",
            "Testing F-Beta: 0.907\n",
            "------------------------------\n"
          ]
        },
        {
          "output_type": "stream",
          "name": "stderr",
          "text": [
            "/usr/local/lib/python3.8/dist-packages/sklearn/metrics/_classification.py:1370: UserWarning: Note that pos_label (set to 'positive') is ignored when average != 'binary' (got 'micro'). You may use labels=[pos_label] to specify a single positive class.\n",
            "  if pos_label not in present_labels:\n",
            "/usr/local/lib/python3.8/dist-packages/sklearn/metrics/_classification.py:1370: UserWarning: Note that pos_label (set to 'positive') is ignored when average != 'binary' (got 'micro'). You may use labels=[pos_label] to specify a single positive class.\n",
            "  if pos_label not in present_labels:\n",
            "/usr/local/lib/python3.8/dist-packages/sklearn/metrics/_classification.py:1370: UserWarning: Note that pos_label (set to 'positive') is ignored when average != 'binary' (got 'micro'). You may use labels=[pos_label] to specify a single positive class.\n",
            "  if pos_label not in present_labels:\n",
            "/usr/local/lib/python3.8/dist-packages/sklearn/metrics/_classification.py:1370: UserWarning: Note that pos_label (set to 'positive') is ignored when average != 'binary' (got 'micro'). You may use labels=[pos_label] to specify a single positive class.\n",
            "  if pos_label not in present_labels:\n"
          ]
        }
      ]
    },
    {
      "cell_type": "code",
      "source": [
        "model = XGBClassifier()"
      ],
      "metadata": {
        "id": "JD2P_dXwD-ne"
      },
      "execution_count": null,
      "outputs": []
    },
    {
      "cell_type": "code",
      "source": [
        "model.fit(X_train, y_train)"
      ],
      "metadata": {
        "colab": {
          "base_uri": "https://localhost:8080/"
        },
        "id": "F1kaPCFNEFQe",
        "outputId": "edfbf87b-50ee-44a2-e5b1-21b4f7a675af"
      },
      "execution_count": null,
      "outputs": [
        {
          "output_type": "execute_result",
          "data": {
            "text/plain": [
              "XGBClassifier(objective='multi:softprob')"
            ]
          },
          "metadata": {},
          "execution_count": 71
        }
      ]
    },
    {
      "cell_type": "code",
      "source": [
        "print(model)"
      ],
      "metadata": {
        "colab": {
          "base_uri": "https://localhost:8080/"
        },
        "id": "yhXITOsIFV6e",
        "outputId": "323b16d9-3c46-4b97-f216-a9d4ec427a50"
      },
      "execution_count": null,
      "outputs": [
        {
          "output_type": "stream",
          "name": "stdout",
          "text": [
            "XGBClassifier(objective='multi:softprob')\n"
          ]
        }
      ]
    },
    {
      "cell_type": "code",
      "source": [
        "# make predictions for test data\n",
        "y_pred = model.predict(X_test)\n",
        "predictions = [round(value) for value in y_pred]"
      ],
      "metadata": {
        "id": "ouVH4QGpFp2d"
      },
      "execution_count": null,
      "outputs": []
    },
    {
      "cell_type": "code",
      "source": [
        "# evaluate predictions\n",
        "accuracy = accuracy_score(y_test, predictions)\n",
        "print(\"Accuracy: %.2f%%\" % (accuracy * 100.0))"
      ],
      "metadata": {
        "colab": {
          "base_uri": "https://localhost:8080/"
        },
        "id": "B8PIZKtoFs48",
        "outputId": "0281aa5b-b7a2-40e6-b23a-bacebb50709a"
      },
      "execution_count": null,
      "outputs": [
        {
          "output_type": "stream",
          "name": "stdout",
          "text": [
            "Accuracy: 86.97%\n"
          ]
        }
      ]
    },
    {
      "cell_type": "code",
      "source": [
        "rounded_y = np.round(y_pred)"
      ],
      "metadata": {
        "id": "l6UnWu12FtAW"
      },
      "execution_count": null,
      "outputs": []
    },
    {
      "cell_type": "code",
      "source": [
        "unique = pd.DataFrame(y_test)"
      ],
      "metadata": {
        "id": "xKWkrW8jFwuV"
      },
      "execution_count": null,
      "outputs": []
    },
    {
      "cell_type": "code",
      "source": [
        "unique[0].unique()"
      ],
      "metadata": {
        "colab": {
          "base_uri": "https://localhost:8080/"
        },
        "id": "TozzxE2EFyal",
        "outputId": "010c0fd8-0725-428c-aa59-fcdf71856650"
      },
      "execution_count": null,
      "outputs": [
        {
          "output_type": "execute_result",
          "data": {
            "text/plain": [
              "array([0., 1., 2., 3., 4.])"
            ]
          },
          "metadata": {},
          "execution_count": 77
        }
      ]
    },
    {
      "cell_type": "code",
      "source": [
        "from sklearn.metrics import multilabel_confusion_matrix\n",
        "y_unique = unique[0].unique()\n",
        "mcm = multilabel_confusion_matrix(y_test, y_pred, labels = y_unique)\n",
        "mcm"
      ],
      "metadata": {
        "colab": {
          "base_uri": "https://localhost:8080/"
        },
        "id": "TcgXeBunFz6o",
        "outputId": "34054863-2797-41ea-9f34-d7b722e2e63a"
      },
      "execution_count": null,
      "outputs": [
        {
          "output_type": "execute_result",
          "data": {
            "text/plain": [
              "array([[[7376,  624],\n",
              "        [ 319, 1681]],\n",
              "\n",
              "       [[7845,  155],\n",
              "        [ 489, 1511]],\n",
              "\n",
              "       [[7786,  214],\n",
              "        [ 219, 1781]],\n",
              "\n",
              "       [[7776,  224],\n",
              "        [ 204, 1796]],\n",
              "\n",
              "       [[7914,   86],\n",
              "        [  72, 1928]]])"
            ]
          },
          "metadata": {},
          "execution_count": 78
        }
      ]
    },
    {
      "cell_type": "code",
      "source": [
        "from sklearn.model_selection import  GridSearchCV"
      ],
      "metadata": {
        "id": "bxqHyVdMF4_V"
      },
      "execution_count": null,
      "outputs": []
    },
    {
      "cell_type": "code",
      "source": [
        "params = {\n",
        "        'min_child_weight': [1, 5, 10],\n",
        "        'gamma': [0.5, 1, 1.5, 2, 5],\n",
        "        'subsample': [0.6, 0.8, 1.0],\n",
        "        'colsample_bytree': [0.6, 0.8, 1.0],\n",
        "        'max_depth': [3, 4, 5]\n",
        "}"
      ],
      "metadata": {
        "id": "l7y9o_HjF6dN"
      },
      "execution_count": null,
      "outputs": []
    },
    {
      "cell_type": "code",
      "source": [
        "import tqdm"
      ],
      "metadata": {
        "id": "gLjR2AY5F7vF"
      },
      "execution_count": null,
      "outputs": []
    },
    {
      "cell_type": "code",
      "source": [
        "import time"
      ],
      "metadata": {
        "id": "HinxZbsfF9Nf"
      },
      "execution_count": null,
      "outputs": []
    }
  ]
}