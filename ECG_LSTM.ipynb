{
  "nbformat": 4,
  "nbformat_minor": 0,
  "metadata": {
    "colab": {
      "provenance": []
    },
    "kernelspec": {
      "name": "python3",
      "display_name": "Python 3"
    },
    "language_info": {
      "name": "python"
    },
    "accelerator": "GPU",
    "gpuClass": "standard"
  },
  "cells": [
    {
      "cell_type": "code",
      "execution_count": 1,
      "metadata": {
        "id": "Ews1fIlMMACX"
      },
      "outputs": [],
      "source": [
        "import math\n",
        "import random\n",
        "import pickle\n",
        "import itertools\n",
        "import numpy as np # linear algebra\n",
        "import pandas as pd # data processing, CSV file I/O (e.g. pd.read_csv)\n",
        "from sklearn.metrics import accuracy_score, classification_report, confusion_matrix, label_ranking_average_precision_score, label_ranking_loss, coverage_error \n",
        "from sklearn.utils import shuffle\n",
        "from scipy.signal import resample\n",
        "import matplotlib.pyplot as plt\n",
        "np.random.seed(42)\n",
        "import pickle\n",
        "from sklearn.preprocessing import OneHotEncoder\n",
        "from keras.models import Model\n",
        "from keras.layers import Input, Dense, Conv1D, MaxPooling1D, Softmax, Add, Flatten, Activation# , Dropout\n",
        "from keras import backend as K\n",
        "#from keras.optimizers import Adam\n",
        "from keras.callbacks import LearningRateScheduler, ModelCheckpoint\n",
        "import numpy as np\n",
        "import pandas as pd\n",
        "import seaborn as sns\n",
        "import matplotlib.pyplot as plt\n",
        "from sklearn.metrics import classification_report\n",
        "from sklearn.model_selection import train_test_split\n",
        "from sklearn.metrics import f1_score\n",
        "from sklearn.metrics import confusion_matrix\n",
        "import math\n",
        "import random\n",
        "import pickle\n",
        "import itertools\n",
        "import numpy as np \n",
        "import pandas as pd \n",
        "import matplotlib.pyplot as plt\n",
        "np.random.seed(42)\n",
        "import tensorflow as tf\n",
        "import tensorflow.keras as keras"
      ]
    },
    {
      "cell_type": "code",
      "source": [
        "mit_test_data = pd.read_csv(\"/content/drive/MyDrive/ML lab/Project Stuffs/ECG LSTM/Copy of mitbih_test.csv\", header=None)\n",
        "mit_train_data = pd.read_csv(\"/content/drive/MyDrive/ML lab/Project Stuffs/ECG LSTM/Copy of mitbih_train.csv\", header=None)"
      ],
      "metadata": {
        "id": "Y18W5EWaMs7z"
      },
      "execution_count": 2,
      "outputs": []
    },
    {
      "cell_type": "code",
      "source": [
        "# There is a huge difference in the balanced of the classes.\n",
        "# Better choose the resample technique more than the class weights for the algorithms.\n",
        "from sklearn.utils import resample\n",
        "\n",
        "df_1=mit_train_data[mit_train_data[187]==1]\n",
        "df_2=mit_train_data[mit_train_data[187]==2]\n",
        "df_3=mit_train_data[mit_train_data[187]==3]\n",
        "df_4=mit_train_data[mit_train_data[187]==4]\n",
        "df_0=(mit_train_data[mit_train_data[187]==0]).sample(n=20000,random_state=42)\n",
        "\n",
        "df_1_upsample=resample(df_1,replace=True,n_samples=20000,random_state=123)\n",
        "df_2_upsample=resample(df_2,replace=True,n_samples=20000,random_state=124)\n",
        "df_3_upsample=resample(df_3,replace=True,n_samples=20000,random_state=125)\n",
        "df_4_upsample=resample(df_4,replace=True,n_samples=20000,random_state=126)\n",
        "\n",
        "train_df=pd.concat([df_0,df_1_upsample,df_2_upsample,df_3_upsample,df_4_upsample])\n",
        "\n",
        "\n",
        "df_11=mit_test_data[mit_train_data[187]==1]\n",
        "df_22=mit_test_data[mit_train_data[187]==2]\n",
        "df_33=mit_test_data[mit_train_data[187]==3]\n",
        "df_44=mit_test_data[mit_train_data[187]==4]\n",
        "df_00=(mit_test_data[mit_train_data[187]==0]).sample(n=20000,random_state=42)\n",
        "\n",
        "df_11_upsample=resample(df_1,replace=True,n_samples=20000,random_state=123)\n",
        "df_22_upsample=resample(df_2,replace=True,n_samples=20000,random_state=124)\n",
        "df_33_upsample=resample(df_3,replace=True,n_samples=20000,random_state=125)\n",
        "df_44_upsample=resample(df_4,replace=True,n_samples=20000,random_state=126)\n",
        "\n",
        "test_df=pd.concat([df_00,df_11_upsample,df_22_upsample,df_33_upsample,df_44_upsample])\n",
        "\n",
        "\n",
        "equilibre=train_df[187].value_counts()\n",
        "print(equilibre)"
      ],
      "metadata": {
        "colab": {
          "base_uri": "https://localhost:8080/"
        },
        "id": "jgQOBSB_NBSy",
        "outputId": "307a183a-79ee-4a33-9504-8663bf55b9ff"
      },
      "execution_count": 3,
      "outputs": [
        {
          "output_type": "stream",
          "name": "stdout",
          "text": [
            "0.0    20000\n",
            "1.0    20000\n",
            "2.0    20000\n",
            "3.0    20000\n",
            "4.0    20000\n",
            "Name: 187, dtype: int64\n"
          ]
        },
        {
          "output_type": "stream",
          "name": "stderr",
          "text": [
            "<ipython-input-3-8661b872ec86>:19: UserWarning: Boolean Series key will be reindexed to match DataFrame index.\n",
            "  df_11=mit_test_data[mit_train_data[187]==1]\n",
            "<ipython-input-3-8661b872ec86>:20: UserWarning: Boolean Series key will be reindexed to match DataFrame index.\n",
            "  df_22=mit_test_data[mit_train_data[187]==2]\n",
            "<ipython-input-3-8661b872ec86>:21: UserWarning: Boolean Series key will be reindexed to match DataFrame index.\n",
            "  df_33=mit_test_data[mit_train_data[187]==3]\n",
            "<ipython-input-3-8661b872ec86>:22: UserWarning: Boolean Series key will be reindexed to match DataFrame index.\n",
            "  df_44=mit_test_data[mit_train_data[187]==4]\n",
            "<ipython-input-3-8661b872ec86>:23: UserWarning: Boolean Series key will be reindexed to match DataFrame index.\n",
            "  df_00=(mit_test_data[mit_train_data[187]==0]).sample(n=20000,random_state=42)\n"
          ]
        }
      ]
    },
    {
      "cell_type": "code",
      "source": [
        "print(\"ALL Train data\")\n",
        "print(\"Type\\tCount\")\n",
        "print((mit_train_data[187]).value_counts())\n",
        "print(\"-------------------------\")\n",
        "print(\"ALL Test data\")\n",
        "print(\"Type\\tCount\")\n",
        "print((mit_test_data[187]).value_counts())\n",
        "\n",
        "print(\"ALL Balanced Train data\")\n",
        "print(\"Type\\tCount\")\n",
        "print((train_df[187]).value_counts())\n",
        "print(\"-------------------------\")\n",
        "print(\"ALL Balanced Test data\")\n",
        "print(\"Type\\tCount\")\n",
        "print((train_df[187]).value_counts())"
      ],
      "metadata": {
        "colab": {
          "base_uri": "https://localhost:8080/"
        },
        "id": "kMKRMDK9NN2r",
        "outputId": "c7054718-0360-4c08-9781-68e38f617810"
      },
      "execution_count": 4,
      "outputs": [
        {
          "output_type": "stream",
          "name": "stdout",
          "text": [
            "ALL Train data\n",
            "Type\tCount\n",
            "0.0    72471\n",
            "4.0     6431\n",
            "2.0     5788\n",
            "1.0     2223\n",
            "3.0      641\n",
            "Name: 187, dtype: int64\n",
            "-------------------------\n",
            "ALL Test data\n",
            "Type\tCount\n",
            "0.0    18118\n",
            "4.0     1608\n",
            "2.0     1448\n",
            "1.0      556\n",
            "3.0      162\n",
            "Name: 187, dtype: int64\n",
            "ALL Balanced Train data\n",
            "Type\tCount\n",
            "0.0    20000\n",
            "1.0    20000\n",
            "2.0    20000\n",
            "3.0    20000\n",
            "4.0    20000\n",
            "Name: 187, dtype: int64\n",
            "-------------------------\n",
            "ALL Balanced Test data\n",
            "Type\tCount\n",
            "0.0    20000\n",
            "1.0    20000\n",
            "2.0    20000\n",
            "3.0    20000\n",
            "4.0    20000\n",
            "Name: 187, dtype: int64\n"
          ]
        }
      ]
    },
    {
      "cell_type": "code",
      "source": [
        "test = pd.read_csv(\"/content/drive/MyDrive/ML lab/Project Stuffs/ECG LSTM/Copy of mitbih_test.csv\", header=None)\n",
        "test = test.iloc[0,0:len(test.T)-1] # Remove last line cause it might be a Nan\n",
        "test = pd.DataFrame(test)\n",
        "# NORMALIZING TEST DATA AMPLITUDE\n",
        "from sklearn.preprocessing import MinMaxScaler\n",
        "# load the dataset and print the first 5 rows\n",
        "# prepare data for normalization\n",
        "values = test.values\n",
        "scaler = MinMaxScaler(feature_range=(0, 1))\n",
        "scaler = scaler.fit(values)\n",
        "normalized = scaler.transform(values)\n",
        "normalized = pd.DataFrame(normalized)\n",
        "normalized"
      ],
      "metadata": {
        "colab": {
          "base_uri": "https://localhost:8080/",
          "height": 424
        },
        "id": "jJNSmJ_ONUts",
        "outputId": "5de9d048-b21b-471b-8dc0-4af272db88d7"
      },
      "execution_count": 5,
      "outputs": [
        {
          "output_type": "execute_result",
          "data": {
            "text/plain": [
              "            0\n",
              "0    1.000000\n",
              "1    0.758264\n",
              "2    0.111570\n",
              "3    0.000000\n",
              "4    0.080579\n",
              "..        ...\n",
              "182  0.000000\n",
              "183  0.000000\n",
              "184  0.000000\n",
              "185  0.000000\n",
              "186  0.000000\n",
              "\n",
              "[187 rows x 1 columns]"
            ],
            "text/html": [
              "\n",
              "  <div id=\"df-dc986f1a-2a5a-42f7-bff1-ca8aa7e4782f\">\n",
              "    <div class=\"colab-df-container\">\n",
              "      <div>\n",
              "<style scoped>\n",
              "    .dataframe tbody tr th:only-of-type {\n",
              "        vertical-align: middle;\n",
              "    }\n",
              "\n",
              "    .dataframe tbody tr th {\n",
              "        vertical-align: top;\n",
              "    }\n",
              "\n",
              "    .dataframe thead th {\n",
              "        text-align: right;\n",
              "    }\n",
              "</style>\n",
              "<table border=\"1\" class=\"dataframe\">\n",
              "  <thead>\n",
              "    <tr style=\"text-align: right;\">\n",
              "      <th></th>\n",
              "      <th>0</th>\n",
              "    </tr>\n",
              "  </thead>\n",
              "  <tbody>\n",
              "    <tr>\n",
              "      <th>0</th>\n",
              "      <td>1.000000</td>\n",
              "    </tr>\n",
              "    <tr>\n",
              "      <th>1</th>\n",
              "      <td>0.758264</td>\n",
              "    </tr>\n",
              "    <tr>\n",
              "      <th>2</th>\n",
              "      <td>0.111570</td>\n",
              "    </tr>\n",
              "    <tr>\n",
              "      <th>3</th>\n",
              "      <td>0.000000</td>\n",
              "    </tr>\n",
              "    <tr>\n",
              "      <th>4</th>\n",
              "      <td>0.080579</td>\n",
              "    </tr>\n",
              "    <tr>\n",
              "      <th>...</th>\n",
              "      <td>...</td>\n",
              "    </tr>\n",
              "    <tr>\n",
              "      <th>182</th>\n",
              "      <td>0.000000</td>\n",
              "    </tr>\n",
              "    <tr>\n",
              "      <th>183</th>\n",
              "      <td>0.000000</td>\n",
              "    </tr>\n",
              "    <tr>\n",
              "      <th>184</th>\n",
              "      <td>0.000000</td>\n",
              "    </tr>\n",
              "    <tr>\n",
              "      <th>185</th>\n",
              "      <td>0.000000</td>\n",
              "    </tr>\n",
              "    <tr>\n",
              "      <th>186</th>\n",
              "      <td>0.000000</td>\n",
              "    </tr>\n",
              "  </tbody>\n",
              "</table>\n",
              "<p>187 rows × 1 columns</p>\n",
              "</div>\n",
              "      <button class=\"colab-df-convert\" onclick=\"convertToInteractive('df-dc986f1a-2a5a-42f7-bff1-ca8aa7e4782f')\"\n",
              "              title=\"Convert this dataframe to an interactive table.\"\n",
              "              style=\"display:none;\">\n",
              "        \n",
              "  <svg xmlns=\"http://www.w3.org/2000/svg\" height=\"24px\"viewBox=\"0 0 24 24\"\n",
              "       width=\"24px\">\n",
              "    <path d=\"M0 0h24v24H0V0z\" fill=\"none\"/>\n",
              "    <path d=\"M18.56 5.44l.94 2.06.94-2.06 2.06-.94-2.06-.94-.94-2.06-.94 2.06-2.06.94zm-11 1L8.5 8.5l.94-2.06 2.06-.94-2.06-.94L8.5 2.5l-.94 2.06-2.06.94zm10 10l.94 2.06.94-2.06 2.06-.94-2.06-.94-.94-2.06-.94 2.06-2.06.94z\"/><path d=\"M17.41 7.96l-1.37-1.37c-.4-.4-.92-.59-1.43-.59-.52 0-1.04.2-1.43.59L10.3 9.45l-7.72 7.72c-.78.78-.78 2.05 0 2.83L4 21.41c.39.39.9.59 1.41.59.51 0 1.02-.2 1.41-.59l7.78-7.78 2.81-2.81c.8-.78.8-2.07 0-2.86zM5.41 20L4 18.59l7.72-7.72 1.47 1.35L5.41 20z\"/>\n",
              "  </svg>\n",
              "      </button>\n",
              "      \n",
              "  <style>\n",
              "    .colab-df-container {\n",
              "      display:flex;\n",
              "      flex-wrap:wrap;\n",
              "      gap: 12px;\n",
              "    }\n",
              "\n",
              "    .colab-df-convert {\n",
              "      background-color: #E8F0FE;\n",
              "      border: none;\n",
              "      border-radius: 50%;\n",
              "      cursor: pointer;\n",
              "      display: none;\n",
              "      fill: #1967D2;\n",
              "      height: 32px;\n",
              "      padding: 0 0 0 0;\n",
              "      width: 32px;\n",
              "    }\n",
              "\n",
              "    .colab-df-convert:hover {\n",
              "      background-color: #E2EBFA;\n",
              "      box-shadow: 0px 1px 2px rgba(60, 64, 67, 0.3), 0px 1px 3px 1px rgba(60, 64, 67, 0.15);\n",
              "      fill: #174EA6;\n",
              "    }\n",
              "\n",
              "    [theme=dark] .colab-df-convert {\n",
              "      background-color: #3B4455;\n",
              "      fill: #D2E3FC;\n",
              "    }\n",
              "\n",
              "    [theme=dark] .colab-df-convert:hover {\n",
              "      background-color: #434B5C;\n",
              "      box-shadow: 0px 1px 3px 1px rgba(0, 0, 0, 0.15);\n",
              "      filter: drop-shadow(0px 1px 2px rgba(0, 0, 0, 0.3));\n",
              "      fill: #FFFFFF;\n",
              "    }\n",
              "  </style>\n",
              "\n",
              "      <script>\n",
              "        const buttonEl =\n",
              "          document.querySelector('#df-dc986f1a-2a5a-42f7-bff1-ca8aa7e4782f button.colab-df-convert');\n",
              "        buttonEl.style.display =\n",
              "          google.colab.kernel.accessAllowed ? 'block' : 'none';\n",
              "\n",
              "        async function convertToInteractive(key) {\n",
              "          const element = document.querySelector('#df-dc986f1a-2a5a-42f7-bff1-ca8aa7e4782f');\n",
              "          const dataTable =\n",
              "            await google.colab.kernel.invokeFunction('convertToInteractive',\n",
              "                                                     [key], {});\n",
              "          if (!dataTable) return;\n",
              "\n",
              "          const docLinkHtml = 'Like what you see? Visit the ' +\n",
              "            '<a target=\"_blank\" href=https://colab.research.google.com/notebooks/data_table.ipynb>data table notebook</a>'\n",
              "            + ' to learn more about interactive tables.';\n",
              "          element.innerHTML = '';\n",
              "          dataTable['output_type'] = 'display_data';\n",
              "          await google.colab.output.renderOutput(dataTable, element);\n",
              "          const docLink = document.createElement('div');\n",
              "          docLink.innerHTML = docLinkHtml;\n",
              "          element.appendChild(docLink);\n",
              "        }\n",
              "      </script>\n",
              "    </div>\n",
              "  </div>\n",
              "  "
            ]
          },
          "metadata": {},
          "execution_count": 5
        }
      ]
    },
    {
      "cell_type": "code",
      "source": [
        "from tensorflow.keras.optimizers import Adam\n",
        "from keras.datasets import imdb\n",
        "from keras.models import Sequential\n",
        "from keras.layers import Dense\n",
        "from keras.layers import LSTM\n",
        "from keras.layers import Bidirectional\n",
        "\n",
        "from keras.preprocessing import sequence\n",
        "\n",
        "np.random.seed(7)"
      ],
      "metadata": {
        "id": "9bwsW79-Nmuh"
      },
      "execution_count": 7,
      "outputs": []
    },
    {
      "cell_type": "code",
      "source": [
        "from tensorflow.keras.utils import to_categorical\n",
        "\n",
        "print(\"--- X ---\")\n",
        "# X = mit_train_data.loc[:, mit_train_data.columns != 187]\n",
        "X = train_df.loc[:, mit_train_data.columns != 187]\n",
        "print(X.head())\n",
        "print(X.info())\n",
        "\n",
        "print(\"--- Y ---\")\n",
        "# y = mit_train_data.loc[:, mit_train_data.columns == 187]\n",
        "y = train_df.loc[:, mit_train_data.columns == 187]\n",
        "y = to_categorical(y)\n",
        "\n",
        "print(\"--- testX ---\")\n",
        "#testX = mit_test_data.loc[:, mit_test_data.columns != 187]\n",
        "testX = test_df.loc[:, mit_test_data.columns != 187]\n",
        "print(testX.head())\n",
        "print(testX.info())\n",
        "\n",
        "print(\"--- testy ---\")\n",
        "#testy = mit_test_data.loc[:, mit_test_data.columns == 187]\n",
        "testy = test_df.loc[:, mit_test_data.columns == 187]\n",
        "testy = to_categorical(testy)"
      ],
      "metadata": {
        "colab": {
          "base_uri": "https://localhost:8080/"
        },
        "id": "c24XGLPhOMFT",
        "outputId": "b391f79a-aab2-40e7-caef-118af16f7488"
      },
      "execution_count": 8,
      "outputs": [
        {
          "output_type": "stream",
          "name": "stdout",
          "text": [
            "--- X ---\n",
            "            0         1         2         3         4         5         6    \\\n",
            "10153  0.162791  0.540698  0.755814  0.186047  0.168605  0.546512  0.616279   \n",
            "33886  0.990066  0.938742  0.344371  0.034768  0.273179  0.331126  0.326159   \n",
            "32005  0.974239  0.932084  0.590164  0.131148  0.014052  0.168618  0.238876   \n",
            "56159  0.978495  0.723118  0.526882  0.298387  0.220430  0.158602  0.091398   \n",
            "61783  0.963351  0.709424  0.060209  0.013089  0.057592  0.041885  0.047120   \n",
            "\n",
            "            7         8         9    ...  177  178  179  180  181  182  183  \\\n",
            "10153  0.697674  0.651163  0.703488  ...  0.0  0.0  0.0  0.0  0.0  0.0  0.0   \n",
            "33886  0.341060  0.347682  0.347682  ...  0.0  0.0  0.0  0.0  0.0  0.0  0.0   \n",
            "32005  0.210773  0.196721  0.208431  ...  0.0  0.0  0.0  0.0  0.0  0.0  0.0   \n",
            "56159  0.091398  0.080645  0.083333  ...  0.0  0.0  0.0  0.0  0.0  0.0  0.0   \n",
            "61783  0.034031  0.039267  0.044503  ...  0.0  0.0  0.0  0.0  0.0  0.0  0.0   \n",
            "\n",
            "       184  185  186  \n",
            "10153  0.0  0.0  0.0  \n",
            "33886  0.0  0.0  0.0  \n",
            "32005  0.0  0.0  0.0  \n",
            "56159  0.0  0.0  0.0  \n",
            "61783  0.0  0.0  0.0  \n",
            "\n",
            "[5 rows x 187 columns]\n",
            "<class 'pandas.core.frame.DataFrame'>\n",
            "Int64Index: 100000 entries, 10153 to 86696\n",
            "Columns: 187 entries, 0 to 186\n",
            "dtypes: float64(187)\n",
            "memory usage: 143.4 MB\n",
            "None\n",
            "--- Y ---\n",
            "--- testX ---\n",
            "            0         1         2         3         4         5         6    \\\n",
            "17155  0.966581  0.802057  0.077121  0.000000  0.161954  0.244216  0.254499   \n",
            "8157   1.000000  0.644444  0.031111  0.026667  0.151111  0.128889  0.080000   \n",
            "3635   1.000000  0.965318  0.734104  0.462428  0.271676  0.156069  0.150289   \n",
            "19125  1.000000  0.998792  0.960145  0.896135  0.898551  0.873188  0.766908   \n",
            "3002   0.009836  0.000000  0.163934  0.242623  0.327869  0.350820  0.331148   \n",
            "\n",
            "            7         8         9    ...  177  178  179  180  181  182  183  \\\n",
            "17155  0.262211  0.264782  0.272494  ...  0.0  0.0  0.0  0.0  0.0  0.0  0.0   \n",
            "8157   0.080000  0.084444  0.080000  ...  0.0  0.0  0.0  0.0  0.0  0.0  0.0   \n",
            "3635   0.173410  0.173410  0.150289  ...  0.0  0.0  0.0  0.0  0.0  0.0  0.0   \n",
            "19125  0.591787  0.327295  0.252415  ...  0.0  0.0  0.0  0.0  0.0  0.0  0.0   \n",
            "3002   0.331148  0.354098  0.373771  ...  0.0  0.0  0.0  0.0  0.0  0.0  0.0   \n",
            "\n",
            "       184  185  186  \n",
            "17155  0.0  0.0  0.0  \n",
            "8157   0.0  0.0  0.0  \n",
            "3635   0.0  0.0  0.0  \n",
            "19125  0.0  0.0  0.0  \n",
            "3002   0.0  0.0  0.0  \n",
            "\n",
            "[5 rows x 187 columns]\n",
            "<class 'pandas.core.frame.DataFrame'>\n",
            "Int64Index: 100000 entries, 17155 to 86696\n",
            "Columns: 187 entries, 0 to 186\n",
            "dtypes: float64(187)\n",
            "memory usage: 143.4 MB\n",
            "None\n",
            "--- testy ---\n"
          ]
        }
      ]
    },
    {
      "cell_type": "code",
      "source": [
        "from keras.callbacks import History \n",
        "history = History()\n",
        "embedding_vecor_length = 187\n",
        "\n",
        "model = Sequential()\n",
        "\n",
        "model.add(Dense(50, activation='relu', input_shape=(187,)))\n",
        "model.add(Dense(50, activation='relu'))\n",
        "model.add(Dense(5, activation='softmax'))\n",
        "\n",
        "model.compile(optimizer='adam',\n",
        "              loss='categorical_crossentropy',\n",
        "              metrics=['accuracy'])\n",
        "\n",
        "history=model.fit(X, y, epochs=10)\n",
        "\n",
        "print(\"Evaluation: \")\n",
        "mse, acc = model.evaluate(testX, testy)\n",
        "print('mean_squared_error :', mse)\n",
        "print('accuracy:', acc)\n"
      ],
      "metadata": {
        "colab": {
          "base_uri": "https://localhost:8080/"
        },
        "id": "oyK_5j1nOptC",
        "outputId": "5313af53-d6a0-4833-b4cd-29961c1dbfa5"
      },
      "execution_count": 9,
      "outputs": [
        {
          "output_type": "stream",
          "name": "stdout",
          "text": [
            "Epoch 1/10\n",
            "3125/3125 [==============================] - 10s 2ms/step - loss: 0.4771 - accuracy: 0.8270\n",
            "Epoch 2/10\n",
            "3125/3125 [==============================] - 7s 2ms/step - loss: 0.2998 - accuracy: 0.8888\n",
            "Epoch 3/10\n",
            "3125/3125 [==============================] - 7s 2ms/step - loss: 0.2401 - accuracy: 0.9121\n",
            "Epoch 4/10\n",
            "3125/3125 [==============================] - 7s 2ms/step - loss: 0.2020 - accuracy: 0.9273\n",
            "Epoch 5/10\n",
            "3125/3125 [==============================] - 7s 2ms/step - loss: 0.1777 - accuracy: 0.9386\n",
            "Epoch 6/10\n",
            "3125/3125 [==============================] - 7s 2ms/step - loss: 0.1573 - accuracy: 0.9460\n",
            "Epoch 7/10\n",
            "3125/3125 [==============================] - 7s 2ms/step - loss: 0.1423 - accuracy: 0.9515\n",
            "Epoch 8/10\n",
            "3125/3125 [==============================] - 7s 2ms/step - loss: 0.1295 - accuracy: 0.9558\n",
            "Epoch 9/10\n",
            "3125/3125 [==============================] - 7s 2ms/step - loss: 0.1185 - accuracy: 0.9598\n",
            "Epoch 10/10\n",
            "3125/3125 [==============================] - 7s 2ms/step - loss: 0.1109 - accuracy: 0.9629\n",
            "Evaluation: \n",
            "3125/3125 [==============================] - 7s 2ms/step - loss: 0.1097 - accuracy: 0.9643\n",
            "mean_squared_error : 0.10966134816408157\n",
            "accuracy: 0.9642999768257141\n"
          ]
        }
      ]
    },
    {
      "cell_type": "code",
      "source": [
        "print(history.history.keys())\n",
        "# summarize history for accuracy\n",
        "plt.plot(history.history['accuracy'])\n",
        "plt.title('model accuracy')\n",
        "plt.ylabel('accuracy')\n",
        "plt.xlabel('epoch')\n",
        "plt.legend(['train', 'test'], loc='upper left')\n",
        "plt.show()\n",
        "# summarize history for loss\n",
        "plt.plot(history.history['loss'])\n",
        "\n",
        "plt.title('model loss')\n",
        "plt.ylabel('loss')\n",
        "plt.xlabel('epoch')\n",
        "plt.legend(['train', 'test'], loc='upper left')\n",
        "plt.show()\n",
        "#dict_keys(['loss', 'accuracy'])"
      ],
      "metadata": {
        "colab": {
          "base_uri": "https://localhost:8080/",
          "height": 590
        },
        "id": "Nrx16FzDOqIP",
        "outputId": "71ad034e-58a3-4fb3-95c9-5a113f1dfe82"
      },
      "execution_count": 11,
      "outputs": [
        {
          "output_type": "stream",
          "name": "stdout",
          "text": [
            "dict_keys(['loss', 'accuracy'])\n"
          ]
        },
        {
          "output_type": "display_data",
          "data": {
            "text/plain": [
              "<Figure size 432x288 with 1 Axes>"
            ],
            "image/png": "[encoded data removed]"
          },
          "metadata": {
            "needs_background": "light"
          }
        },
        {
          "output_type": "display_data",
          "data": {
            "text/plain": [
              "<Figure size 432x288 with 1 Axes>"
            ],
            "image/png": "[encoded data removed]"
          },
          "metadata": {
            "needs_background": "light"
          }
        }
      ]
    },
    {
      "cell_type": "code",
      "source": [
        "y_pred = model.predict(testX, batch_size=1000)\n",
        "\n",
        "from sklearn.metrics import accuracy_score, classification_report, confusion_matrix, label_ranking_average_precision_score, label_ranking_loss, coverage_error \n",
        "\n",
        "print(classification_report(testy.argmax(axis=1), y_pred.argmax(axis=1)))"
      ],
      "metadata": {
        "colab": {
          "base_uri": "https://localhost:8080/"
        },
        "id": "w3QWTnIvPTFK",
        "outputId": "ff972a9b-9bde-44f7-a68a-9f0695373981"
      },
      "execution_count": 12,
      "outputs": [
        {
          "output_type": "stream",
          "name": "stdout",
          "text": [
            "100/100 [==============================] - 0s 2ms/step\n",
            "              precision    recall  f1-score   support\n",
            "\n",
            "           0       0.91      0.93      0.92     16569\n",
            "           1       0.97      0.95      0.96     20513\n",
            "           2       0.98      0.96      0.97     21320\n",
            "           3       0.96      0.99      0.97     20147\n",
            "           4       0.99      0.99      0.99     21451\n",
            "\n",
            "    accuracy                           0.96    100000\n",
            "   macro avg       0.96      0.96      0.96    100000\n",
            "weighted avg       0.96      0.96      0.96    100000\n",
            "\n"
          ]
        }
      ]
    }
  ]
}