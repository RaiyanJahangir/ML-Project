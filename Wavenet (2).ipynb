{
  "nbformat": 4,
  "nbformat_minor": 0,
  "metadata": {
    "colab": {
      "provenance": []
    },
    "kernelspec": {
      "name": "python3",
      "display_name": "Python 3"
    },
    "language_info": {
      "name": "python"
    },
    "accelerator": "GPU",
    "gpuClass": "standard"
  },
  "cells": [
    {
      "cell_type": "code",
      "execution_count": 2,
      "metadata": {
        "colab": {
          "base_uri": "https://localhost:8080/"
        },
        "id": "abH3v0L154UU",
        "outputId": "46a28ba7-df50-459c-f8c3-839957e63a5d"
      },
      "outputs": [
        {
          "output_type": "stream",
          "name": "stdout",
          "text": [
            "Mounted at /content/drive\n"
          ]
        }
      ],
      "source": [
        "from google.colab import drive\n",
        "drive.mount('/content/drive')"
      ]
    },
    {
      "cell_type": "code",
      "source": [
        "from sklearn.preprocessing import StandardScaler\n",
        "import tensorflow as tf\n",
        "from tensorflow.keras import layers as kl\n",
        "import numpy as np \n",
        "import pandas as pd \n",
        "from sklearn.metrics import f1_score\n",
        "import matplotlib.pyplot as plt"
      ],
      "metadata": {
        "id": "QdoB9Tp7C50R"
      },
      "execution_count": 1,
      "outputs": []
    },
    {
      "cell_type": "code",
      "source": [
        "dftrain = pd.read_csv('/content/drive/MyDrive/dataset/mitbih_train (1).csv',header=None)\n",
        "dftest = pd.read_csv('/content/drive/MyDrive/dataset/mitbih_test (1).csv',header=None)"
      ],
      "metadata": {
        "id": "ho4iilQQDmm6"
      },
      "execution_count": 3,
      "outputs": []
    },
    {
      "cell_type": "code",
      "source": [
        "Xtrain  = dftrain.iloc[:,:-1].astype(float).to_numpy()\n",
        "Diagtrain = dftrain.iloc[:,187].astype(int)\n",
        "Xtest  = dftest.iloc[:,:-1].astype(float).to_numpy()\n",
        "Diagtest = dftest.iloc[:,187].astype(int)\n",
        "print(Diagtrain.value_counts())\n",
        "print(Diagtest.value_counts())\n",
        "\n",
        "Ytrain = pd.get_dummies(Diagtrain).to_numpy()\n",
        "Ytest = pd.get_dummies(Diagtest).to_numpy()\n",
        "print(Xtrain.shape)\n",
        "print(Ytrain.shape)"
      ],
      "metadata": {
        "colab": {
          "base_uri": "https://localhost:8080/"
        },
        "id": "fgMebcLuDb5H",
        "outputId": "9ad66e16-9b86-4a56-ac6b-20bb3964354c"
      },
      "execution_count": 4,
      "outputs": [
        {
          "output_type": "stream",
          "name": "stdout",
          "text": [
            "0    72471\n",
            "4     6431\n",
            "2     5788\n",
            "1     2223\n",
            "3      641\n",
            "Name: 187, dtype: int64\n",
            "0    18118\n",
            "4     1608\n",
            "2     1448\n",
            "1      556\n",
            "3      162\n",
            "Name: 187, dtype: int64\n",
            "(87554, 187)\n",
            "(87554, 5)\n"
          ]
        }
      ]
    },
    {
      "cell_type": "code",
      "source": [
        "sc = StandardScaler()\n",
        "\n",
        "XtrainNorm = sc.fit_transform(Xtrain)\n",
        "XtestNorm = sc.transform(Xtest)"
      ],
      "metadata": {
        "id": "vEvbSmgrBUUR"
      },
      "execution_count": 5,
      "outputs": []
    },
    {
      "cell_type": "code",
      "source": [
        "tf.keras.backend.clear_session()\n",
        "\n",
        "class MyCallback(tf.keras.callbacks.Callback):\n",
        "    def on_epoch_end(self, epoch, logs={}):  \n",
        "        if(logs.get('val_loss')<0.063):\n",
        "          self.model.stop_training = True\n",
        "\n",
        "def train(X,Y,E,BS):\n",
        "  callback = MyCallback()\n",
        "  skips = []\n",
        "  inp = kl.Input(shape=( 187))\n",
        "  x = kl.Reshape(( 187, 1))(inp)\n",
        "  dilatation_rates = [2**k for k in range(7)]\n",
        "  print(dilatation_rates)\n",
        "  for i in dilatation_rates:\n",
        "    \n",
        "    x = kl.TimeDistributed(kl.Dense(64, activation = 'relu'))(x)\n",
        "    x_f = kl.Conv1D(64,2, strides=1,dilation_rate = i, padding = \"causal\", activation = \"relu\")(x)\n",
        "    x_g = kl.Conv1D(64,2, strides=1,dilation_rate = i, padding = \"causal\", activation = \"relu\")(x)\n",
        "    \n",
        "    y = kl.Multiply()([kl.Activation('tanh')(x_f), kl.Activation('sigmoid')(x_g)])\n",
        "   \n",
        "    y = kl.TimeDistributed(kl.Dense(64, activation = 'relu'))(y)\n",
        "    \n",
        "    #z = kl.Add()([x, y])    \n",
        "    \n",
        "    skips.append(y)\n",
        " \n",
        "  #x = tf.compat.v1.keras.layers.CuDNNLSTM(32, return_sequences = False)(x)\n",
        "  #x = kl.TimeDistributed(kl.Dense(64, activation = \"relu\"))(x)\n",
        "    \n",
        "  #x = kl.TimeDistributed(kl.Dense(64, activation = \"relu\"))(x)\n",
        "  #x = kl.TimeDistributed(kl.Dense(32, activation = \"relu\"))(x)\n",
        "  #x = kl.TimeDistributed(kl.Dense(16, activation = \"relu\"))(x)\n",
        "  a = kl.Activation('relu')(kl.Add()(skips))\n",
        "  a = kl.Flatten()(a)\n",
        "  a = kl.Dropout(0.2)(a)\n",
        "  a = kl.Dense(512, activation = \"relu\")(a)\n",
        "  a = kl.Dropout(0.1)(a)\n",
        "  a = kl.Dense(64, activation = \"relu\")(a)\n",
        "  \n",
        "  out = kl.Dense(5, activation = \"softmax\")(a)\n",
        "  \n",
        "\n",
        "\n",
        "  model = tf.keras.Model(inputs=inp, outputs=out, name=\"cardiowave\")\n",
        "\n",
        "  model.summary() \n",
        "  #optimizer = tf.keras.optimizers.SGD(learning_rate=1e-8, momentum=0.9)\n",
        "  optimizer = tf.keras.optimizers.Adam(learning_rate=3e-4)\n",
        "  loss = tf.keras.losses.CategoricalCrossentropy()\n",
        "\n",
        "  model.compile(optimizer=optimizer, loss=loss, metrics=[\"accuracy\"]) \n",
        "  history = model.fit(X, Y, \n",
        "                      shuffle = True,\n",
        "                      epochs=E,\n",
        "                      validation_data = (Xtest,Ytest),\n",
        "                      batch_size=BS\n",
        "                      , callbacks=[callback])\n",
        "  return model, history\n",
        "E = 20\n",
        "model, history = train(Xtrain,Ytrain,E, 64)"
      ],
      "metadata": {
        "colab": {
          "base_uri": "https://localhost:8080/"
        },
        "id": "FriMyCGhI4lb",
        "outputId": "0745c2c7-543c-4e12-fe23-74dd7e694ac8"
      },
      "execution_count": 6,
      "outputs": [
        {
          "output_type": "stream",
          "name": "stdout",
          "text": [
            "[1, 2, 4, 8, 16, 32, 64]\n",
            "Model: \"cardiowave\"\n",
            "__________________________________________________________________________________________________\n",
            " Layer (type)                   Output Shape         Param #     Connected to                     \n",
            "==================================================================================================\n",
            " input_1 (InputLayer)           [(None, 187)]        0           []                               \n",
            "                                                                                                  \n",
            " reshape (Reshape)              (None, 187, 1)       0           ['input_1[0][0]']                \n",
            "                                                                                                  \n",
            " time_distributed (TimeDistribu  (None, 187, 64)     128         ['reshape[0][0]']                \n",
            " ted)                                                                                             \n",
            "                                                                                                  \n",
            " time_distributed_2 (TimeDistri  (None, 187, 64)     4160        ['time_distributed[0][0]']       \n",
            " buted)                                                                                           \n",
            "                                                                                                  \n",
            " time_distributed_4 (TimeDistri  (None, 187, 64)     4160        ['time_distributed_2[0][0]']     \n",
            " buted)                                                                                           \n",
            "                                                                                                  \n",
            " time_distributed_6 (TimeDistri  (None, 187, 64)     4160        ['time_distributed_4[0][0]']     \n",
            " buted)                                                                                           \n",
            "                                                                                                  \n",
            " time_distributed_8 (TimeDistri  (None, 187, 64)     4160        ['time_distributed_6[0][0]']     \n",
            " buted)                                                                                           \n",
            "                                                                                                  \n",
            " time_distributed_10 (TimeDistr  (None, 187, 64)     4160        ['time_distributed_8[0][0]']     \n",
            " ibuted)                                                                                          \n",
            "                                                                                                  \n",
            " time_distributed_12 (TimeDistr  (None, 187, 64)     4160        ['time_distributed_10[0][0]']    \n",
            " ibuted)                                                                                          \n",
            "                                                                                                  \n",
            " conv1d (Conv1D)                (None, 187, 64)      8256        ['time_distributed[0][0]']       \n",
            "                                                                                                  \n",
            " conv1d_1 (Conv1D)              (None, 187, 64)      8256        ['time_distributed[0][0]']       \n",
            "                                                                                                  \n",
            " conv1d_2 (Conv1D)              (None, 187, 64)      8256        ['time_distributed_2[0][0]']     \n",
            "                                                                                                  \n",
            " conv1d_3 (Conv1D)              (None, 187, 64)      8256        ['time_distributed_2[0][0]']     \n",
            "                                                                                                  \n",
            " conv1d_4 (Conv1D)              (None, 187, 64)      8256        ['time_distributed_4[0][0]']     \n",
            "                                                                                                  \n",
            " conv1d_5 (Conv1D)              (None, 187, 64)      8256        ['time_distributed_4[0][0]']     \n",
            "                                                                                                  \n",
            " conv1d_6 (Conv1D)              (None, 187, 64)      8256        ['time_distributed_6[0][0]']     \n",
            "                                                                                                  \n",
            " conv1d_7 (Conv1D)              (None, 187, 64)      8256        ['time_distributed_6[0][0]']     \n",
            "                                                                                                  \n",
            " conv1d_8 (Conv1D)              (None, 187, 64)      8256        ['time_distributed_8[0][0]']     \n",
            "                                                                                                  \n",
            " conv1d_9 (Conv1D)              (None, 187, 64)      8256        ['time_distributed_8[0][0]']     \n",
            "                                                                                                  \n",
            " conv1d_10 (Conv1D)             (None, 187, 64)      8256        ['time_distributed_10[0][0]']    \n",
            "                                                                                                  \n",
            " conv1d_11 (Conv1D)             (None, 187, 64)      8256        ['time_distributed_10[0][0]']    \n",
            "                                                                                                  \n",
            " conv1d_12 (Conv1D)             (None, 187, 64)      8256        ['time_distributed_12[0][0]']    \n",
            "                                                                                                  \n",
            " conv1d_13 (Conv1D)             (None, 187, 64)      8256        ['time_distributed_12[0][0]']    \n",
            "                                                                                                  \n",
            " activation (Activation)        (None, 187, 64)      0           ['conv1d[0][0]']                 \n",
            "                                                                                                  \n",
            " activation_1 (Activation)      (None, 187, 64)      0           ['conv1d_1[0][0]']               \n",
            "                                                                                                  \n",
            " activation_2 (Activation)      (None, 187, 64)      0           ['conv1d_2[0][0]']               \n",
            "                                                                                                  \n",
            " activation_3 (Activation)      (None, 187, 64)      0           ['conv1d_3[0][0]']               \n",
            "                                                                                                  \n",
            " activation_4 (Activation)      (None, 187, 64)      0           ['conv1d_4[0][0]']               \n",
            "                                                                                                  \n",
            " activation_5 (Activation)      (None, 187, 64)      0           ['conv1d_5[0][0]']               \n",
            "                                                                                                  \n",
            " activation_6 (Activation)      (None, 187, 64)      0           ['conv1d_6[0][0]']               \n",
            "                                                                                                  \n",
            " activation_7 (Activation)      (None, 187, 64)      0           ['conv1d_7[0][0]']               \n",
            "                                                                                                  \n",
            " activation_8 (Activation)      (None, 187, 64)      0           ['conv1d_8[0][0]']               \n",
            "                                                                                                  \n",
            " activation_9 (Activation)      (None, 187, 64)      0           ['conv1d_9[0][0]']               \n",
            "                                                                                                  \n",
            " activation_10 (Activation)     (None, 187, 64)      0           ['conv1d_10[0][0]']              \n",
            "                                                                                                  \n",
            " activation_11 (Activation)     (None, 187, 64)      0           ['conv1d_11[0][0]']              \n",
            "                                                                                                  \n",
            " activation_12 (Activation)     (None, 187, 64)      0           ['conv1d_12[0][0]']              \n",
            "                                                                                                  \n",
            " activation_13 (Activation)     (None, 187, 64)      0           ['conv1d_13[0][0]']              \n",
            "                                                                                                  \n",
            " multiply (Multiply)            (None, 187, 64)      0           ['activation[0][0]',             \n",
            "                                                                  'activation_1[0][0]']           \n",
            "                                                                                                  \n",
            " multiply_1 (Multiply)          (None, 187, 64)      0           ['activation_2[0][0]',           \n",
            "                                                                  'activation_3[0][0]']           \n",
            "                                                                                                  \n",
            " multiply_2 (Multiply)          (None, 187, 64)      0           ['activation_4[0][0]',           \n",
            "                                                                  'activation_5[0][0]']           \n",
            "                                                                                                  \n",
            " multiply_3 (Multiply)          (None, 187, 64)      0           ['activation_6[0][0]',           \n",
            "                                                                  'activation_7[0][0]']           \n",
            "                                                                                                  \n",
            " multiply_4 (Multiply)          (None, 187, 64)      0           ['activation_8[0][0]',           \n",
            "                                                                  'activation_9[0][0]']           \n",
            "                                                                                                  \n",
            " multiply_5 (Multiply)          (None, 187, 64)      0           ['activation_10[0][0]',          \n",
            "                                                                  'activation_11[0][0]']          \n",
            "                                                                                                  \n",
            " multiply_6 (Multiply)          (None, 187, 64)      0           ['activation_12[0][0]',          \n",
            "                                                                  'activation_13[0][0]']          \n",
            "                                                                                                  \n",
            " time_distributed_1 (TimeDistri  (None, 187, 64)     4160        ['multiply[0][0]']               \n",
            " buted)                                                                                           \n",
            "                                                                                                  \n",
            " time_distributed_3 (TimeDistri  (None, 187, 64)     4160        ['multiply_1[0][0]']             \n",
            " buted)                                                                                           \n",
            "                                                                                                  \n",
            " time_distributed_5 (TimeDistri  (None, 187, 64)     4160        ['multiply_2[0][0]']             \n",
            " buted)                                                                                           \n",
            "                                                                                                  \n",
            " time_distributed_7 (TimeDistri  (None, 187, 64)     4160        ['multiply_3[0][0]']             \n",
            " buted)                                                                                           \n",
            "                                                                                                  \n",
            " time_distributed_9 (TimeDistri  (None, 187, 64)     4160        ['multiply_4[0][0]']             \n",
            " buted)                                                                                           \n",
            "                                                                                                  \n",
            " time_distributed_11 (TimeDistr  (None, 187, 64)     4160        ['multiply_5[0][0]']             \n",
            " ibuted)                                                                                          \n",
            "                                                                                                  \n",
            " time_distributed_13 (TimeDistr  (None, 187, 64)     4160        ['multiply_6[0][0]']             \n",
            " ibuted)                                                                                          \n",
            "                                                                                                  \n",
            " add (Add)                      (None, 187, 64)      0           ['time_distributed_1[0][0]',     \n",
            "                                                                  'time_distributed_3[0][0]',     \n",
            "                                                                  'time_distributed_5[0][0]',     \n",
            "                                                                  'time_distributed_7[0][0]',     \n",
            "                                                                  'time_distributed_9[0][0]',     \n",
            "                                                                  'time_distributed_11[0][0]',    \n",
            "                                                                  'time_distributed_13[0][0]']    \n",
            "                                                                                                  \n",
            " activation_14 (Activation)     (None, 187, 64)      0           ['add[0][0]']                    \n",
            "                                                                                                  \n",
            " flatten (Flatten)              (None, 11968)        0           ['activation_14[0][0]']          \n",
            "                                                                                                  \n",
            " dropout (Dropout)              (None, 11968)        0           ['flatten[0][0]']                \n",
            "                                                                                                  \n",
            " dense_14 (Dense)               (None, 512)          6128128     ['dropout[0][0]']                \n",
            "                                                                                                  \n",
            " dropout_1 (Dropout)            (None, 512)          0           ['dense_14[0][0]']               \n",
            "                                                                                                  \n",
            " dense_15 (Dense)               (None, 64)           32832       ['dropout_1[0][0]']              \n",
            "                                                                                                  \n",
            " dense_16 (Dense)               (None, 5)            325         ['dense_15[0][0]']               \n",
            "                                                                                                  \n",
            "==================================================================================================\n",
            "Total params: 6,331,077\n",
            "Trainable params: 6,331,077\n",
            "Non-trainable params: 0\n",
            "__________________________________________________________________________________________________\n",
            "Epoch 1/20\n",
            "1369/1369 [==============================] - 53s 29ms/step - loss: 0.2344 - accuracy: 0.9353 - val_loss: 0.1275 - val_accuracy: 0.9650\n",
            "Epoch 2/20\n",
            "1369/1369 [==============================] - 38s 28ms/step - loss: 0.1093 - accuracy: 0.9695 - val_loss: 0.0949 - val_accuracy: 0.9728\n",
            "Epoch 3/20\n",
            "1369/1369 [==============================] - 42s 30ms/step - loss: 0.0818 - accuracy: 0.9766 - val_loss: 0.0797 - val_accuracy: 0.9779\n",
            "Epoch 4/20\n",
            "1369/1369 [==============================] - 40s 29ms/step - loss: 0.0665 - accuracy: 0.9804 - val_loss: 0.0816 - val_accuracy: 0.9769\n",
            "Epoch 5/20\n",
            "1369/1369 [==============================] - 39s 28ms/step - loss: 0.0564 - accuracy: 0.9831 - val_loss: 0.0771 - val_accuracy: 0.9804\n",
            "Epoch 6/20\n",
            "1369/1369 [==============================] - 41s 30ms/step - loss: 0.0482 - accuracy: 0.9852 - val_loss: 0.0695 - val_accuracy: 0.9822\n",
            "Epoch 7/20\n",
            "1369/1369 [==============================] - 39s 29ms/step - loss: 0.0421 - accuracy: 0.9868 - val_loss: 0.0692 - val_accuracy: 0.9825\n",
            "Epoch 8/20\n",
            "1369/1369 [==============================] - 39s 28ms/step - loss: 0.0358 - accuracy: 0.9884 - val_loss: 0.0705 - val_accuracy: 0.9836\n",
            "Epoch 9/20\n",
            "1369/1369 [==============================] - 39s 28ms/step - loss: 0.0316 - accuracy: 0.9903 - val_loss: 0.0699 - val_accuracy: 0.9822\n",
            "Epoch 10/20\n",
            "1369/1369 [==============================] - 40s 29ms/step - loss: 0.0277 - accuracy: 0.9910 - val_loss: 0.0704 - val_accuracy: 0.9837\n",
            "Epoch 11/20\n",
            "1369/1369 [==============================] - 39s 28ms/step - loss: 0.0251 - accuracy: 0.9913 - val_loss: 0.0693 - val_accuracy: 0.9846\n",
            "Epoch 12/20\n",
            "1369/1369 [==============================] - 39s 28ms/step - loss: 0.0227 - accuracy: 0.9925 - val_loss: 0.0752 - val_accuracy: 0.9844\n",
            "Epoch 13/20\n",
            "1369/1369 [==============================] - 39s 28ms/step - loss: 0.0194 - accuracy: 0.9934 - val_loss: 0.0811 - val_accuracy: 0.9836\n",
            "Epoch 14/20\n",
            "1369/1369 [==============================] - 39s 28ms/step - loss: 0.0189 - accuracy: 0.9938 - val_loss: 0.0798 - val_accuracy: 0.9838\n",
            "Epoch 15/20\n",
            "1369/1369 [==============================] - 39s 28ms/step - loss: 0.0176 - accuracy: 0.9940 - val_loss: 0.0784 - val_accuracy: 0.9849\n",
            "Epoch 16/20\n",
            "1369/1369 [==============================] - 42s 31ms/step - loss: 0.0149 - accuracy: 0.9951 - val_loss: 0.0932 - val_accuracy: 0.9841\n",
            "Epoch 17/20\n",
            "1369/1369 [==============================] - 41s 30ms/step - loss: 0.0139 - accuracy: 0.9952 - val_loss: 0.0764 - val_accuracy: 0.9852\n",
            "Epoch 18/20\n",
            "1369/1369 [==============================] - 39s 28ms/step - loss: 0.0132 - accuracy: 0.9952 - val_loss: 0.0816 - val_accuracy: 0.9852\n",
            "Epoch 19/20\n",
            "1369/1369 [==============================] - 38s 28ms/step - loss: 0.0125 - accuracy: 0.9959 - val_loss: 0.0807 - val_accuracy: 0.9844\n",
            "Epoch 20/20\n",
            "1369/1369 [==============================] - 39s 28ms/step - loss: 0.0113 - accuracy: 0.9961 - val_loss: 0.0930 - val_accuracy: 0.9846\n"
          ]
        }
      ]
    },
    {
      "cell_type": "code",
      "source": [
        "N = len(history.history[\"loss\"])\n",
        "\n",
        "fig, ax = plt.subplots()\n",
        "ax.plot(range(N), history.history[\"loss\"], label = \"train loss\")\n",
        "ax.plot(range(N), history.history[\"val_loss\"], label = \"validation loss\")\n",
        "ax.legend()\n",
        "\n",
        "fig, ax = plt.subplots()\n",
        "ax.plot(range(N), history.history[\"accuracy\"], label = \"train accuracy\")\n",
        "ax.plot(range(N), history.history[\"val_accuracy\"], label = \"validation accuracy\")\n",
        "ax.legend()"
      ],
      "metadata": {
        "colab": {
          "base_uri": "https://localhost:8080/",
          "height": 531
        },
        "id": "nKuyM0oCLu6w",
        "outputId": "f512140c-f2c3-404d-de86-b4e831e05e8f"
      },
      "execution_count": 7,
      "outputs": [
        {
          "output_type": "execute_result",
          "data": {
            "text/plain": [
              "<matplotlib.legend.Legend at 0x7f8c33f699a0>"
            ]
          },
          "metadata": {},
          "execution_count": 7
        },
        {
          "output_type": "display_data",
          "data": {
            "text/plain": [
              "<Figure size 432x288 with 1 Axes>"
            ],
            "image/png": "[encoded data removed]"
          },
          "metadata": {
            "needs_background": "light"
          }
        },
        {
          "output_type": "display_data",
          "data": {
            "text/plain": [
              "<Figure size 432x288 with 1 Axes>"
            ],
            "image/png": "[encoded data removed]"
          },
          "metadata": {
            "needs_background": "light"
          }
        }
      ]
    },
    {
      "cell_type": "code",
      "source": [
        "pred = model.predict(Xtest)\n",
        "predlabel = np.argmax(pred, axis = 1)\n",
        "count = sum(sum([predlabel == Diagtest.to_numpy()]))\n",
        "\n",
        "print(str(len(predlabel)-count) + \" mauvais diagnostiques\")\n",
        "print(str((1 - (len(predlabel)-count)/(len(predlabel)))*100) + \"% de bons diagnostiques\")\n",
        "\n",
        "\n",
        "print(Diagtest[predlabel != Diagtest.to_numpy()].value_counts())"
      ],
      "metadata": {
        "id": "vG_frH8CLyY4",
        "outputId": "dcb1a4a9-ef8e-4f4f-fd2d-0f2a9e8b3fb3",
        "colab": {
          "base_uri": "https://localhost:8080/"
        }
      },
      "execution_count": 8,
      "outputs": [
        {
          "output_type": "stream",
          "name": "stdout",
          "text": [
            "685/685 [==============================] - 4s 5ms/step\n",
            "338 mauvais diagnostiques\n",
            "98.45605700712589% de bons diagnostiques\n",
            "1    140\n",
            "2     77\n",
            "0     62\n",
            "3     35\n",
            "4     24\n",
            "Name: 187, dtype: int64\n"
          ]
        }
      ]
    },
    {
      "cell_type": "code",
      "source": [
        "score = f1_score( Diagtest, predlabel, average='macro')\n",
        "print(score)"
      ],
      "metadata": {
        "id": "ImK-jG4rL1Mp",
        "outputId": "3aee46bc-a66e-42c0-d4a1-af2044cd7c82",
        "colab": {
          "base_uri": "https://localhost:8080/"
        }
      },
      "execution_count": 9,
      "outputs": [
        {
          "output_type": "stream",
          "name": "stdout",
          "text": [
            "0.9143738947391178\n"
          ]
        }
      ]
    },
    {
      "cell_type": "code",
      "source": [
        "from sklearn.metrics import confusion_matrix"
      ],
      "metadata": {
        "id": "63gto6qkLqdl"
      },
      "execution_count": 12,
      "outputs": []
    },
    {
      "cell_type": "code",
      "source": [
        "import itertools\n",
        "def plot_confusion_matrix(cm, classes,\n",
        "                          normalize=False,\n",
        "                          title='Confusion matrix',\n",
        "                          cmap=plt.cm.Blues):\n",
        "    \"\"\"\n",
        "    This function prints and plots the confusion matrix.\n",
        "    Normalization can be applied by setting `normalize=True`.\n",
        "    \"\"\"\n",
        "    if normalize:\n",
        "        cm = cm.astype('float') / cm.sum(axis=1)[:, np.newaxis]\n",
        "        print(\"Normalized confusion matrix\")\n",
        "    else:\n",
        "        print('Confusion matrix, without normalization')\n",
        "\n",
        "    plt.imshow(cm, interpolation='nearest', cmap=cmap)\n",
        "    plt.title(title)\n",
        "    plt.colorbar()\n",
        "    tick_marks = np.arange(len(classes))\n",
        "    plt.xticks(tick_marks, classes, rotation=45)\n",
        "    plt.yticks(tick_marks, classes)\n",
        "\n",
        "    fmt = '.2f' if normalize else 'd'\n",
        "    thresh = cm.max() / 2.\n",
        "    for i, j in itertools.product(range(cm.shape[0]), range(cm.shape[1])):\n",
        "        plt.text(j, i, format(cm[i, j], fmt),\n",
        "                 horizontalalignment=\"center\",\n",
        "                 color=\"white\" if cm[i, j] > thresh else \"black\")\n",
        "\n",
        "    plt.tight_layout()\n",
        "    plt.ylabel('True label')\n",
        "    plt.xlabel('Predicted label')\n",
        "\n",
        "# Compute confusion matrix\n",
        "cnf_matrix = confusion_matrix(Ytest.argmax(axis=1), pred.argmax(axis=1))\n",
        "np.set_printoptions(precision=2)\n",
        "\n",
        "# Plot non-normalized confusion matrix\n",
        "plt.figure(figsize=(10, 10))\n",
        "plot_confusion_matrix(cnf_matrix, classes=['N', 'S', 'V', 'F', 'Q'],normalize=True,\n",
        "                      title='Confusion matrix, with normalization')\n",
        "plt.show()"
      ],
      "metadata": {
        "colab": {
          "base_uri": "https://localhost:8080/",
          "height": 747
        },
        "id": "w8A8uEbcIxYS",
        "outputId": "32a54202-461a-4c8b-9774-f3643a7cd4b0"
      },
      "execution_count": 16,
      "outputs": [
        {
          "output_type": "stream",
          "name": "stdout",
          "text": [
            "Normalized confusion matrix\n"
          ]
        },
        {
          "output_type": "display_data",
          "data": {
            "text/plain": [
              "<Figure size 720x720 with 2 Axes>"
            ],
            "image/png": "[encoded data removed]"
          },
          "metadata": {
            "needs_background": "light"
          }
        }
      ]
    }
  ]
}