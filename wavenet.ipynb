{
  "nbformat": 4,
  "nbformat_minor": 0,
  "metadata": {
    "colab": {
      "provenance": []
    },
    "kernelspec": {
      "name": "python3",
      "display_name": "Python 3"
    },
    "language_info": {
      "name": "python"
    },
    "accelerator": "GPU",
    "gpuClass": "standard"
  },
  "cells": [
    {
      "cell_type": "code",
      "execution_count": 10,
      "metadata": {
        "colab": {
          "base_uri": "https://localhost:8080/"
        },
        "id": "abH3v0L154UU",
        "outputId": "57ab6423-a49a-4f6e-91cd-2a6b1ad6c4a2"
      },
      "outputs": [
        {
          "output_type": "stream",
          "name": "stdout",
          "text": [
            "Drive already mounted at /content/drive; to attempt to forcibly remount, call drive.mount(\"/content/drive\", force_remount=True).\n"
          ]
        }
      ],
      "source": [
        "from google.colab import drive\n",
        "drive.mount('/content/drive')"
      ]
    },
    {
      "cell_type": "code",
      "source": [
        "from sklearn.preprocessing import StandardScaler\n",
        "import tensorflow as tf\n",
        "from tensorflow.keras import layers as kl\n",
        "import numpy as np \n",
        "import pandas as pd \n",
        "from sklearn.metrics import f1_score\n",
        "import matplotlib.pyplot as plt"
      ],
      "metadata": {
        "id": "QdoB9Tp7C50R"
      },
      "execution_count": 11,
      "outputs": []
    },
    {
      "cell_type": "code",
      "source": [
        "dftrain = pd.read_csv('/content/drive/MyDrive/dataset/mitbih_train (1).csv',header=None)\n",
        "dftest = pd.read_csv('/content/drive/MyDrive/dataset/mitbih_test (1).csv',header=None)"
      ],
      "metadata": {
        "id": "ho4iilQQDmm6"
      },
      "execution_count": 12,
      "outputs": []
    },
    {
      "cell_type": "code",
      "source": [
        "Xtrain  = dftrain.iloc[:,:-1].astype(float).to_numpy()\n",
        "Diagtrain = dftrain.iloc[:,187].astype(int)\n",
        "Xtest  = dftest.iloc[:,:-1].astype(float).to_numpy()\n",
        "Diagtest = dftest.iloc[:,187].astype(int)\n",
        "print(Diagtrain.value_counts())\n",
        "print(Diagtest.value_counts())\n",
        "\n",
        "Ytrain = pd.get_dummies(Diagtrain).to_numpy()\n",
        "Ytest = pd.get_dummies(Diagtest).to_numpy()\n",
        "print(Xtrain.shape)\n",
        "print(Ytrain.shape)"
      ],
      "metadata": {
        "colab": {
          "base_uri": "https://localhost:8080/"
        },
        "id": "fgMebcLuDb5H",
        "outputId": "646d432b-f8c7-4c19-b9b6-3eb67509664e"
      },
      "execution_count": 13,
      "outputs": [
        {
          "output_type": "stream",
          "name": "stdout",
          "text": [
            "0    72471\n",
            "4     6431\n",
            "2     5788\n",
            "1     2223\n",
            "3      641\n",
            "Name: 187, dtype: int64\n",
            "0    18118\n",
            "4     1608\n",
            "2     1448\n",
            "1      556\n",
            "3      162\n",
            "Name: 187, dtype: int64\n",
            "(87554, 187)\n",
            "(87554, 5)\n"
          ]
        }
      ]
    },
    {
      "cell_type": "code",
      "source": [
        "sc = StandardScaler()\n",
        "\n",
        "XtrainNorm = sc.fit_transform(Xtrain)\n",
        "XtestNorm = sc.transform(Xtest)"
      ],
      "metadata": {
        "id": "vEvbSmgrBUUR"
      },
      "execution_count": 14,
      "outputs": []
    },
    {
      "cell_type": "code",
      "source": [
        "tf.keras.backend.clear_session()\n",
        "\n",
        "class MyCallback(tf.keras.callbacks.Callback):\n",
        "    def on_epoch_end(self, epoch, logs={}):  \n",
        "        if(logs.get('val_loss')<0.063):\n",
        "          self.model.stop_training = True\n",
        "\n",
        "def train(X,Y,E,BS):\n",
        "  callback = MyCallback()\n",
        "  skips = []\n",
        "  inp = kl.Input(shape=( 187))\n",
        "  x = kl.Reshape(( 187, 1))(inp)\n",
        "  dilatation_rates = [2**k for k in range(7)]\n",
        "  print(dilatation_rates)\n",
        "  for i in dilatation_rates:\n",
        "    \n",
        "    x = kl.TimeDistributed(kl.Dense(64, activation = 'relu'))(x)\n",
        "    x_f = kl.Conv1D(64,2, strides=1,dilation_rate = i, padding = \"causal\", activation = \"relu\")(x)\n",
        "    x_g = kl.Conv1D(64,2, strides=1,dilation_rate = i, padding = \"causal\", activation = \"relu\")(x)\n",
        "    \n",
        "    y = kl.Multiply()([kl.Activation('tanh')(x_f), kl.Activation('sigmoid')(x_g)])\n",
        "   \n",
        "    y = kl.TimeDistributed(kl.Dense(64, activation = 'relu'))(y)\n",
        "    \n",
        "    #z = kl.Add()([x, y])    \n",
        "    \n",
        "    skips.append(y)\n",
        " \n",
        "  #x = tf.compat.v1.keras.layers.CuDNNLSTM(32, return_sequences = False)(x)\n",
        "  #x = kl.TimeDistributed(kl.Dense(64, activation = \"relu\"))(x)\n",
        "    \n",
        "  #x = kl.TimeDistributed(kl.Dense(64, activation = \"relu\"))(x)\n",
        "  #x = kl.TimeDistributed(kl.Dense(32, activation = \"relu\"))(x)\n",
        "  #x = kl.TimeDistributed(kl.Dense(16, activation = \"relu\"))(x)\n",
        "  a = kl.Activation('relu')(kl.Add()(skips))\n",
        "  a = kl.Flatten()(a)\n",
        "  a = kl.Dropout(0.2)(a)\n",
        "  a = kl.Dense(512, activation = \"relu\")(a)\n",
        "  a = kl.Dropout(0.1)(a)\n",
        "  a = kl.Dense(64, activation = \"relu\")(a)\n",
        "  \n",
        "  out = kl.Dense(5, activation = \"softmax\")(a)\n",
        "  \n",
        "\n",
        "\n",
        "  model = tf.keras.Model(inputs=inp, outputs=out, name=\"cardiowave\")\n",
        "\n",
        "  model.summary() \n",
        "  #optimizer = tf.keras.optimizers.SGD(learning_rate=1e-8, momentum=0.9)\n",
        "  optimizer = tf.keras.optimizers.Adam(learning_rate=3e-4)\n",
        "  loss = tf.keras.losses.CategoricalCrossentropy()\n",
        "\n",
        "  model.compile(optimizer=optimizer, loss=loss, metrics=[\"accuracy\"]) \n",
        "  history = model.fit(X, Y, \n",
        "                      shuffle = True,\n",
        "                      epochs=E,\n",
        "                      validation_data = (Xtest,Ytest),\n",
        "                      batch_size=BS\n",
        "                      , callbacks=[callback])\n",
        "  return model, history\n",
        "E = 20\n",
        "model, history = train(Xtrain,Ytrain,E, 64)"
      ],
      "metadata": {
        "colab": {
          "base_uri": "https://localhost:8080/"
        },
        "id": "FriMyCGhI4lb",
        "outputId": "6006da4d-28ad-4acf-dc3f-a04fbf632e46"
      },
      "execution_count": 15,
      "outputs": [
        {
          "output_type": "stream",
          "name": "stdout",
          "text": [
            "[1, 2, 4, 8, 16, 32, 64]\n",
            "Model: \"cardiowave\"\n",
            "__________________________________________________________________________________________________\n",
            " Layer (type)                   Output Shape         Param #     Connected to                     \n",
            "==================================================================================================\n",
            " input_1 (InputLayer)           [(None, 187)]        0           []                               \n",
            "                                                                                                  \n",
            " reshape (Reshape)              (None, 187, 1)       0           ['input_1[0][0]']                \n",
            "                                                                                                  \n",
            " time_distributed (TimeDistribu  (None, 187, 64)     128         ['reshape[0][0]']                \n",
            " ted)                                                                                             \n",
            "                                                                                                  \n",
            " time_distributed_2 (TimeDistri  (None, 187, 64)     4160        ['time_distributed[0][0]']       \n",
            " buted)                                                                                           \n",
            "                                                                                                  \n",
            " time_distributed_4 (TimeDistri  (None, 187, 64)     4160        ['time_distributed_2[0][0]']     \n",
            " buted)                                                                                           \n",
            "                                                                                                  \n",
            " time_distributed_6 (TimeDistri  (None, 187, 64)     4160        ['time_distributed_4[0][0]']     \n",
            " buted)                                                                                           \n",
            "                                                                                                  \n",
            " time_distributed_8 (TimeDistri  (None, 187, 64)     4160        ['time_distributed_6[0][0]']     \n",
            " buted)                                                                                           \n",
            "                                                                                                  \n",
            " time_distributed_10 (TimeDistr  (None, 187, 64)     4160        ['time_distributed_8[0][0]']     \n",
            " ibuted)                                                                                          \n",
            "                                                                                                  \n",
            " time_distributed_12 (TimeDistr  (None, 187, 64)     4160        ['time_distributed_10[0][0]']    \n",
            " ibuted)                                                                                          \n",
            "                                                                                                  \n",
            " conv1d (Conv1D)                (None, 187, 64)      8256        ['time_distributed[0][0]']       \n",
            "                                                                                                  \n",
            " conv1d_1 (Conv1D)              (None, 187, 64)      8256        ['time_distributed[0][0]']       \n",
            "                                                                                                  \n",
            " conv1d_2 (Conv1D)              (None, 187, 64)      8256        ['time_distributed_2[0][0]']     \n",
            "                                                                                                  \n",
            " conv1d_3 (Conv1D)              (None, 187, 64)      8256        ['time_distributed_2[0][0]']     \n",
            "                                                                                                  \n",
            " conv1d_4 (Conv1D)              (None, 187, 64)      8256        ['time_distributed_4[0][0]']     \n",
            "                                                                                                  \n",
            " conv1d_5 (Conv1D)              (None, 187, 64)      8256        ['time_distributed_4[0][0]']     \n",
            "                                                                                                  \n",
            " conv1d_6 (Conv1D)              (None, 187, 64)      8256        ['time_distributed_6[0][0]']     \n",
            "                                                                                                  \n",
            " conv1d_7 (Conv1D)              (None, 187, 64)      8256        ['time_distributed_6[0][0]']     \n",
            "                                                                                                  \n",
            " conv1d_8 (Conv1D)              (None, 187, 64)      8256        ['time_distributed_8[0][0]']     \n",
            "                                                                                                  \n",
            " conv1d_9 (Conv1D)              (None, 187, 64)      8256        ['time_distributed_8[0][0]']     \n",
            "                                                                                                  \n",
            " conv1d_10 (Conv1D)             (None, 187, 64)      8256        ['time_distributed_10[0][0]']    \n",
            "                                                                                                  \n",
            " conv1d_11 (Conv1D)             (None, 187, 64)      8256        ['time_distributed_10[0][0]']    \n",
            "                                                                                                  \n",
            " conv1d_12 (Conv1D)             (None, 187, 64)      8256        ['time_distributed_12[0][0]']    \n",
            "                                                                                                  \n",
            " conv1d_13 (Conv1D)             (None, 187, 64)      8256        ['time_distributed_12[0][0]']    \n",
            "                                                                                                  \n",
            " activation (Activation)        (None, 187, 64)      0           ['conv1d[0][0]']                 \n",
            "                                                                                                  \n",
            " activation_1 (Activation)      (None, 187, 64)      0           ['conv1d_1[0][0]']               \n",
            "                                                                                                  \n",
            " activation_2 (Activation)      (None, 187, 64)      0           ['conv1d_2[0][0]']               \n",
            "                                                                                                  \n",
            " activation_3 (Activation)      (None, 187, 64)      0           ['conv1d_3[0][0]']               \n",
            "                                                                                                  \n",
            " activation_4 (Activation)      (None, 187, 64)      0           ['conv1d_4[0][0]']               \n",
            "                                                                                                  \n",
            " activation_5 (Activation)      (None, 187, 64)      0           ['conv1d_5[0][0]']               \n",
            "                                                                                                  \n",
            " activation_6 (Activation)      (None, 187, 64)      0           ['conv1d_6[0][0]']               \n",
            "                                                                                                  \n",
            " activation_7 (Activation)      (None, 187, 64)      0           ['conv1d_7[0][0]']               \n",
            "                                                                                                  \n",
            " activation_8 (Activation)      (None, 187, 64)      0           ['conv1d_8[0][0]']               \n",
            "                                                                                                  \n",
            " activation_9 (Activation)      (None, 187, 64)      0           ['conv1d_9[0][0]']               \n",
            "                                                                                                  \n",
            " activation_10 (Activation)     (None, 187, 64)      0           ['conv1d_10[0][0]']              \n",
            "                                                                                                  \n",
            " activation_11 (Activation)     (None, 187, 64)      0           ['conv1d_11[0][0]']              \n",
            "                                                                                                  \n",
            " activation_12 (Activation)     (None, 187, 64)      0           ['conv1d_12[0][0]']              \n",
            "                                                                                                  \n",
            " activation_13 (Activation)     (None, 187, 64)      0           ['conv1d_13[0][0]']              \n",
            "                                                                                                  \n",
            " multiply (Multiply)            (None, 187, 64)      0           ['activation[0][0]',             \n",
            "                                                                  'activation_1[0][0]']           \n",
            "                                                                                                  \n",
            " multiply_1 (Multiply)          (None, 187, 64)      0           ['activation_2[0][0]',           \n",
            "                                                                  'activation_3[0][0]']           \n",
            "                                                                                                  \n",
            " multiply_2 (Multiply)          (None, 187, 64)      0           ['activation_4[0][0]',           \n",
            "                                                                  'activation_5[0][0]']           \n",
            "                                                                                                  \n",
            " multiply_3 (Multiply)          (None, 187, 64)      0           ['activation_6[0][0]',           \n",
            "                                                                  'activation_7[0][0]']           \n",
            "                                                                                                  \n",
            " multiply_4 (Multiply)          (None, 187, 64)      0           ['activation_8[0][0]',           \n",
            "                                                                  'activation_9[0][0]']           \n",
            "                                                                                                  \n",
            " multiply_5 (Multiply)          (None, 187, 64)      0           ['activation_10[0][0]',          \n",
            "                                                                  'activation_11[0][0]']          \n",
            "                                                                                                  \n",
            " multiply_6 (Multiply)          (None, 187, 64)      0           ['activation_12[0][0]',          \n",
            "                                                                  'activation_13[0][0]']          \n",
            "                                                                                                  \n",
            " time_distributed_1 (TimeDistri  (None, 187, 64)     4160        ['multiply[0][0]']               \n",
            " buted)                                                                                           \n",
            "                                                                                                  \n",
            " time_distributed_3 (TimeDistri  (None, 187, 64)     4160        ['multiply_1[0][0]']             \n",
            " buted)                                                                                           \n",
            "                                                                                                  \n",
            " time_distributed_5 (TimeDistri  (None, 187, 64)     4160        ['multiply_2[0][0]']             \n",
            " buted)                                                                                           \n",
            "                                                                                                  \n",
            " time_distributed_7 (TimeDistri  (None, 187, 64)     4160        ['multiply_3[0][0]']             \n",
            " buted)                                                                                           \n",
            "                                                                                                  \n",
            " time_distributed_9 (TimeDistri  (None, 187, 64)     4160        ['multiply_4[0][0]']             \n",
            " buted)                                                                                           \n",
            "                                                                                                  \n",
            " time_distributed_11 (TimeDistr  (None, 187, 64)     4160        ['multiply_5[0][0]']             \n",
            " ibuted)                                                                                          \n",
            "                                                                                                  \n",
            " time_distributed_13 (TimeDistr  (None, 187, 64)     4160        ['multiply_6[0][0]']             \n",
            " ibuted)                                                                                          \n",
            "                                                                                                  \n",
            " add (Add)                      (None, 187, 64)      0           ['time_distributed_1[0][0]',     \n",
            "                                                                  'time_distributed_3[0][0]',     \n",
            "                                                                  'time_distributed_5[0][0]',     \n",
            "                                                                  'time_distributed_7[0][0]',     \n",
            "                                                                  'time_distributed_9[0][0]',     \n",
            "                                                                  'time_distributed_11[0][0]',    \n",
            "                                                                  'time_distributed_13[0][0]']    \n",
            "                                                                                                  \n",
            " activation_14 (Activation)     (None, 187, 64)      0           ['add[0][0]']                    \n",
            "                                                                                                  \n",
            " flatten (Flatten)              (None, 11968)        0           ['activation_14[0][0]']          \n",
            "                                                                                                  \n",
            " dropout (Dropout)              (None, 11968)        0           ['flatten[0][0]']                \n",
            "                                                                                                  \n",
            " dense_14 (Dense)               (None, 512)          6128128     ['dropout[0][0]']                \n",
            "                                                                                                  \n",
            " dropout_1 (Dropout)            (None, 512)          0           ['dense_14[0][0]']               \n",
            "                                                                                                  \n",
            " dense_15 (Dense)               (None, 64)           32832       ['dropout_1[0][0]']              \n",
            "                                                                                                  \n",
            " dense_16 (Dense)               (None, 5)            325         ['dense_15[0][0]']               \n",
            "                                                                                                  \n",
            "==================================================================================================\n",
            "Total params: 6,331,077\n",
            "Trainable params: 6,331,077\n",
            "Non-trainable params: 0\n",
            "__________________________________________________________________________________________________\n",
            "Epoch 1/20\n",
            "1369/1369 [==============================] - 49s 28ms/step - loss: 0.2210 - accuracy: 0.9381 - val_loss: 0.1221 - val_accuracy: 0.9668\n",
            "Epoch 2/20\n",
            "1369/1369 [==============================] - 36s 26ms/step - loss: 0.1043 - accuracy: 0.9706 - val_loss: 0.1124 - val_accuracy: 0.9690\n",
            "Epoch 3/20\n",
            "1369/1369 [==============================] - 36s 26ms/step - loss: 0.0793 - accuracy: 0.9772 - val_loss: 0.0837 - val_accuracy: 0.9770\n",
            "Epoch 4/20\n",
            "1369/1369 [==============================] - 38s 28ms/step - loss: 0.0636 - accuracy: 0.9813 - val_loss: 0.0847 - val_accuracy: 0.9768\n",
            "Epoch 5/20\n",
            "1369/1369 [==============================] - 36s 26ms/step - loss: 0.0532 - accuracy: 0.9838 - val_loss: 0.0821 - val_accuracy: 0.9784\n",
            "Epoch 6/20\n",
            "1369/1369 [==============================] - 38s 28ms/step - loss: 0.0449 - accuracy: 0.9859 - val_loss: 0.0693 - val_accuracy: 0.9805\n",
            "Epoch 7/20\n",
            "1369/1369 [==============================] - 36s 26ms/step - loss: 0.0388 - accuracy: 0.9880 - val_loss: 0.0727 - val_accuracy: 0.9805\n",
            "Epoch 8/20\n",
            "1369/1369 [==============================] - 36s 26ms/step - loss: 0.0323 - accuracy: 0.9895 - val_loss: 0.0705 - val_accuracy: 0.9836\n",
            "Epoch 9/20\n",
            "1369/1369 [==============================] - 38s 28ms/step - loss: 0.0274 - accuracy: 0.9906 - val_loss: 0.0703 - val_accuracy: 0.9835\n",
            "Epoch 10/20\n",
            "1369/1369 [==============================] - 36s 26ms/step - loss: 0.0244 - accuracy: 0.9915 - val_loss: 0.0740 - val_accuracy: 0.9842\n",
            "Epoch 11/20\n",
            "1369/1369 [==============================] - 35s 26ms/step - loss: 0.0210 - accuracy: 0.9931 - val_loss: 0.0746 - val_accuracy: 0.9839\n",
            "Epoch 12/20\n",
            "1369/1369 [==============================] - 36s 26ms/step - loss: 0.0189 - accuracy: 0.9933 - val_loss: 0.0710 - val_accuracy: 0.9847\n",
            "Epoch 13/20\n",
            "1369/1369 [==============================] - 36s 26ms/step - loss: 0.0167 - accuracy: 0.9945 - val_loss: 0.0873 - val_accuracy: 0.9846\n",
            "Epoch 14/20\n",
            "1369/1369 [==============================] - 36s 26ms/step - loss: 0.0147 - accuracy: 0.9950 - val_loss: 0.0915 - val_accuracy: 0.9836\n",
            "Epoch 15/20\n",
            "1369/1369 [==============================] - 38s 28ms/step - loss: 0.0154 - accuracy: 0.9948 - val_loss: 0.0771 - val_accuracy: 0.9848\n",
            "Epoch 16/20\n",
            "1369/1369 [==============================] - 36s 26ms/step - loss: 0.0134 - accuracy: 0.9953 - val_loss: 0.0817 - val_accuracy: 0.9850\n",
            "Epoch 17/20\n",
            "1369/1369 [==============================] - 36s 26ms/step - loss: 0.0115 - accuracy: 0.9960 - val_loss: 0.0864 - val_accuracy: 0.9842\n",
            "Epoch 18/20\n",
            "1369/1369 [==============================] - 36s 26ms/step - loss: 0.0115 - accuracy: 0.9962 - val_loss: 0.0886 - val_accuracy: 0.9854\n",
            "Epoch 19/20\n",
            "1369/1369 [==============================] - 36s 26ms/step - loss: 0.0108 - accuracy: 0.9963 - val_loss: 0.0943 - val_accuracy: 0.9848\n",
            "Epoch 20/20\n",
            "1369/1369 [==============================] - 35s 26ms/step - loss: 0.0101 - accuracy: 0.9966 - val_loss: 0.0907 - val_accuracy: 0.9851\n"
          ]
        }
      ]
    },
    {
      "cell_type": "code",
      "source": [
        "N = len(history.history[\"loss\"])\n",
        "\n",
        "fig, ax = plt.subplots()\n",
        "ax.plot(range(N), history.history[\"loss\"], label = \"train loss\")\n",
        "ax.plot(range(N), history.history[\"val_loss\"], label = \"validation loss\")\n",
        "ax.legend()\n",
        "\n",
        "fig, ax = plt.subplots()\n",
        "ax.plot(range(N), history.history[\"accuracy\"], label = \"train accuracy\")\n",
        "ax.plot(range(N), history.history[\"val_accuracy\"], label = \"validation accuracy\")\n",
        "ax.legend()"
      ],
      "metadata": {
        "colab": {
          "base_uri": "https://localhost:8080/",
          "height": 531
        },
        "id": "nKuyM0oCLu6w",
        "outputId": "1da7659d-6b8b-4d80-d2aa-624bec4fde70"
      },
      "execution_count": 16,
      "outputs": [
        {
          "output_type": "execute_result",
          "data": {
            "text/plain": [
              "<matplotlib.legend.Legend at 0x7f0334056940>"
            ]
          },
          "metadata": {},
          "execution_count": 16
        },
        {
          "output_type": "display_data",
          "data": {
            "text/plain": [
              "<Figure size 432x288 with 1 Axes>"
            ],
            "image/png": "[encoded data removed]"
          },
          "metadata": {
            "needs_background": "light"
          }
        },
        {
          "output_type": "display_data",
          "data": {
            "text/plain": [
              "<Figure size 432x288 with 1 Axes>"
            ],
            "image/png": "[encoded data removed]"
          },
          "metadata": {
            "needs_background": "light"
          }
        }
      ]
    },
    {
      "cell_type": "code",
      "source": [
        "pred = model.predict(Xtest)\n",
        "predlabel = np.argmax(pred, axis = 1)\n",
        "count = sum(sum([predlabel == Diagtest.to_numpy()]))\n",
        "\n",
        "print(str(len(predlabel)-count) + \" mauvais diagnostiques\")\n",
        "print(str((1 - (len(predlabel)-count)/(len(predlabel)))*100) + \"% de bons diagnostiques\")\n",
        "\n",
        "\n",
        "print(Diagtest[predlabel != Diagtest.to_numpy()].value_counts())"
      ],
      "metadata": {
        "colab": {
          "base_uri": "https://localhost:8080/"
        },
        "id": "vG_frH8CLyY4",
        "outputId": "f9bfdefc-fae9-4542-b317-4fa425ac5621"
      },
      "execution_count": 17,
      "outputs": [
        {
          "output_type": "stream",
          "name": "stdout",
          "text": [
            "685/685 [==============================] - 4s 5ms/step\n",
            "326 mauvais diagnostiques\n",
            "98.5108715512516% de bons diagnostiques\n",
            "1    125\n",
            "2     72\n",
            "0     64\n",
            "3     38\n",
            "4     27\n",
            "Name: 187, dtype: int64\n"
          ]
        }
      ]
    },
    {
      "cell_type": "code",
      "source": [
        "score = f1_score( Diagtest, predlabel, average='macro')\n",
        "print(score)"
      ],
      "metadata": {
        "colab": {
          "base_uri": "https://localhost:8080/"
        },
        "id": "ImK-jG4rL1Mp",
        "outputId": "15046584-1825-440e-a633-f870fbb74d3c"
      },
      "execution_count": 18,
      "outputs": [
        {
          "output_type": "stream",
          "name": "stdout",
          "text": [
            "0.9175184390415267\n"
          ]
        }
      ]
    }
  ]
}